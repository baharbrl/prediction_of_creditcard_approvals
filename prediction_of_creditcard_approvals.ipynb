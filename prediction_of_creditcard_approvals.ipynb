{
  "nbformat": 4,
  "nbformat_minor": 0,
  "metadata": {
    "colab": {
      "name": "prediction_of_creditcard_approvals.ipynb",
      "provenance": [],
      "collapsed_sections": []
    },
    "kernelspec": {
      "display_name": "Python 3",
      "name": "python3"
    },
    "language_info": {
      "name": "python"
    }
  },
  "cells": [
    {
      "cell_type": "code",
      "metadata": {
        "id": "gDO-i-LIsse8"
      },
      "source": [
        "!apt-get update #depolama alanı güncelleme"
      ],
      "execution_count": null,
      "outputs": []
    },
    {
      "cell_type": "code",
      "metadata": {
        "id": "oqNgWDjcxHXt"
      },
      "source": [
        "%pwd #adres öğrenme"
      ],
      "execution_count": null,
      "outputs": []
    },
    {
      "cell_type": "code",
      "metadata": {
        "id": "BGRHX2XKxZvb"
      },
      "source": [
        "!chmod +x /content #izin alma "
      ],
      "execution_count": null,
      "outputs": []
    },
    {
      "cell_type": "code",
      "metadata": {
        "id": "Oo55nrt6Nx7R"
      },
      "source": [
        "!pip install xgboost\n",
        "!pip install lightgbm\n",
        "!pip install catboost"
      ],
      "execution_count": null,
      "outputs": []
    },
    {
      "cell_type": "code",
      "metadata": {
        "id": "ZfKl6QF6yTsn"
      },
      "source": [
        "import pandas as pd\n",
        "import numpy as np \n",
        "import seaborn as sns\n",
        "import matplotlib.pyplot as plt\n",
        "import statsmodels.api as sm\n",
        "import warnings\n",
        "warnings.filterwarnings(\"ignore\", category = DeprecationWarning)\n",
        "warnings.filterwarnings(\"ignore\", category = FutureWarning)\n",
        "from sklearn.model_selection import train_test_split, GridSearchCV, cross_val_score\n",
        "from sklearn.metrics import mean_squared_error, r2_score, accuracy_score, confusion_matrix, classification_report, roc_auc_score, roc_curve\n",
        "from sklearn.preprocessing import scale, StandardScaler, LabelEncoder, MinMaxScaler\n",
        "from sklearn.linear_model import LogisticRegression\n",
        "from sklearn.tree import DecisionTreeClassifier\n",
        "from sklearn.neighbors import KNeighborsClassifier\n",
        "from sklearn.neural_network import MLPClassifier\n",
        "from sklearn.ensemble import RandomForestClassifier\n",
        "from sklearn.ensemble import GradientBoostingClassifier\n",
        "from sklearn.svm import SVC"
      ],
      "execution_count": 173,
      "outputs": []
    },
    {
      "cell_type": "code",
      "metadata": {
        "id": "8i0jyXDDzbNa"
      },
      "source": [
        "import xgboost \n",
        "from xgboost import XGBClassifier\n",
        "import lightgbm\n",
        "from lightgbm import LGBMClassifier\n",
        "import catboost\n",
        "from catboost import CatBoostClassifier"
      ],
      "execution_count": null,
      "outputs": []
    },
    {
      "cell_type": "code",
      "metadata": {
        "id": "dqMyiynmzm4F"
      },
      "source": [
        "df = pd.read_csv(\"/content/drive/MyDrive/Colab Notebooks/creditcard_approvals/cc_approvals.csv\")"
      ],
      "execution_count": 185,
      "outputs": []
    },
    {
      "cell_type": "code",
      "metadata": {
        "id": "lcnQpE9fzyYx",
        "colab": {
          "base_uri": "https://localhost:8080/",
          "height": 195
        },
        "outputId": "edb0fd61-02fa-4b3b-fb3a-da3944f384fd"
      },
      "source": [
        "df.head()"
      ],
      "execution_count": 186,
      "outputs": [
        {
          "output_type": "execute_result",
          "data": {
            "text/html": [
              "<div>\n",
              "<style scoped>\n",
              "    .dataframe tbody tr th:only-of-type {\n",
              "        vertical-align: middle;\n",
              "    }\n",
              "\n",
              "    .dataframe tbody tr th {\n",
              "        vertical-align: top;\n",
              "    }\n",
              "\n",
              "    .dataframe thead th {\n",
              "        text-align: right;\n",
              "    }\n",
              "</style>\n",
              "<table border=\"1\" class=\"dataframe\">\n",
              "  <thead>\n",
              "    <tr style=\"text-align: right;\">\n",
              "      <th></th>\n",
              "      <th>Gender</th>\n",
              "      <th>Age</th>\n",
              "      <th>Debt</th>\n",
              "      <th>Married</th>\n",
              "      <th>BankCustomer</th>\n",
              "      <th>EducationLevel</th>\n",
              "      <th>Ethnicity</th>\n",
              "      <th>YearsEmployed</th>\n",
              "      <th>PriorDefault</th>\n",
              "      <th>Employed</th>\n",
              "      <th>CreditScore</th>\n",
              "      <th>DriverLicence</th>\n",
              "      <th>Citizen</th>\n",
              "      <th>ZipCode</th>\n",
              "      <th>Income</th>\n",
              "      <th>Approved</th>\n",
              "    </tr>\n",
              "  </thead>\n",
              "  <tbody>\n",
              "    <tr>\n",
              "      <th>0</th>\n",
              "      <td>b</td>\n",
              "      <td>30.83</td>\n",
              "      <td>0.000</td>\n",
              "      <td>u</td>\n",
              "      <td>g</td>\n",
              "      <td>w</td>\n",
              "      <td>v</td>\n",
              "      <td>1.25</td>\n",
              "      <td>t</td>\n",
              "      <td>t</td>\n",
              "      <td>1</td>\n",
              "      <td>f</td>\n",
              "      <td>g</td>\n",
              "      <td>202</td>\n",
              "      <td>0</td>\n",
              "      <td>1</td>\n",
              "    </tr>\n",
              "    <tr>\n",
              "      <th>1</th>\n",
              "      <td>a</td>\n",
              "      <td>58.67</td>\n",
              "      <td>4.460</td>\n",
              "      <td>u</td>\n",
              "      <td>g</td>\n",
              "      <td>q</td>\n",
              "      <td>h</td>\n",
              "      <td>3.04</td>\n",
              "      <td>t</td>\n",
              "      <td>t</td>\n",
              "      <td>6</td>\n",
              "      <td>f</td>\n",
              "      <td>g</td>\n",
              "      <td>43</td>\n",
              "      <td>560</td>\n",
              "      <td>1</td>\n",
              "    </tr>\n",
              "    <tr>\n",
              "      <th>2</th>\n",
              "      <td>a</td>\n",
              "      <td>24.5</td>\n",
              "      <td>0.500</td>\n",
              "      <td>u</td>\n",
              "      <td>g</td>\n",
              "      <td>q</td>\n",
              "      <td>h</td>\n",
              "      <td>1.50</td>\n",
              "      <td>t</td>\n",
              "      <td>f</td>\n",
              "      <td>0</td>\n",
              "      <td>f</td>\n",
              "      <td>g</td>\n",
              "      <td>280</td>\n",
              "      <td>824</td>\n",
              "      <td>1</td>\n",
              "    </tr>\n",
              "    <tr>\n",
              "      <th>3</th>\n",
              "      <td>b</td>\n",
              "      <td>27.83</td>\n",
              "      <td>1.540</td>\n",
              "      <td>u</td>\n",
              "      <td>g</td>\n",
              "      <td>w</td>\n",
              "      <td>v</td>\n",
              "      <td>3.75</td>\n",
              "      <td>t</td>\n",
              "      <td>t</td>\n",
              "      <td>5</td>\n",
              "      <td>t</td>\n",
              "      <td>g</td>\n",
              "      <td>100</td>\n",
              "      <td>3</td>\n",
              "      <td>1</td>\n",
              "    </tr>\n",
              "    <tr>\n",
              "      <th>4</th>\n",
              "      <td>b</td>\n",
              "      <td>20.17</td>\n",
              "      <td>5.625</td>\n",
              "      <td>u</td>\n",
              "      <td>g</td>\n",
              "      <td>w</td>\n",
              "      <td>v</td>\n",
              "      <td>1.71</td>\n",
              "      <td>t</td>\n",
              "      <td>f</td>\n",
              "      <td>0</td>\n",
              "      <td>f</td>\n",
              "      <td>s</td>\n",
              "      <td>120</td>\n",
              "      <td>0</td>\n",
              "      <td>1</td>\n",
              "    </tr>\n",
              "  </tbody>\n",
              "</table>\n",
              "</div>"
            ],
            "text/plain": [
              "  Gender    Age   Debt Married  ... Citizen ZipCode Income  Approved\n",
              "0      b  30.83  0.000       u  ...       g     202      0         1\n",
              "1      a  58.67  4.460       u  ...       g      43    560         1\n",
              "2      a   24.5  0.500       u  ...       g     280    824         1\n",
              "3      b  27.83  1.540       u  ...       g     100      3         1\n",
              "4      b  20.17  5.625       u  ...       s     120      0         1\n",
              "\n",
              "[5 rows x 16 columns]"
            ]
          },
          "metadata": {
            "tags": []
          },
          "execution_count": 186
        }
      ]
    },
    {
      "cell_type": "code",
      "metadata": {
        "id": "uPHXbh_o0ySu",
        "colab": {
          "base_uri": "https://localhost:8080/"
        },
        "outputId": "1b9ea575-56cd-4bff-9fce-732e57f0ddc6"
      },
      "source": [
        "df[\"Approved\"].value_counts()"
      ],
      "execution_count": 187,
      "outputs": [
        {
          "output_type": "execute_result",
          "data": {
            "text/plain": [
              "0    383\n",
              "1    307\n",
              "Name: Approved, dtype: int64"
            ]
          },
          "metadata": {
            "tags": []
          },
          "execution_count": 187
        }
      ]
    },
    {
      "cell_type": "code",
      "metadata": {
        "id": "k-ffOaZ308Gw",
        "colab": {
          "base_uri": "https://localhost:8080/",
          "height": 195
        },
        "outputId": "bc68bfe3-9a87-46aa-9643-cf854534194d"
      },
      "source": [
        "df.describe().T #b.sız degiskenlerin betimsel istatistiği"
      ],
      "execution_count": 188,
      "outputs": [
        {
          "output_type": "execute_result",
          "data": {
            "text/html": [
              "<div>\n",
              "<style scoped>\n",
              "    .dataframe tbody tr th:only-of-type {\n",
              "        vertical-align: middle;\n",
              "    }\n",
              "\n",
              "    .dataframe tbody tr th {\n",
              "        vertical-align: top;\n",
              "    }\n",
              "\n",
              "    .dataframe thead th {\n",
              "        text-align: right;\n",
              "    }\n",
              "</style>\n",
              "<table border=\"1\" class=\"dataframe\">\n",
              "  <thead>\n",
              "    <tr style=\"text-align: right;\">\n",
              "      <th></th>\n",
              "      <th>count</th>\n",
              "      <th>mean</th>\n",
              "      <th>std</th>\n",
              "      <th>min</th>\n",
              "      <th>25%</th>\n",
              "      <th>50%</th>\n",
              "      <th>75%</th>\n",
              "      <th>max</th>\n",
              "    </tr>\n",
              "  </thead>\n",
              "  <tbody>\n",
              "    <tr>\n",
              "      <th>Debt</th>\n",
              "      <td>690.0</td>\n",
              "      <td>4.758725</td>\n",
              "      <td>4.978163</td>\n",
              "      <td>0.0</td>\n",
              "      <td>1.000</td>\n",
              "      <td>2.75</td>\n",
              "      <td>7.2075</td>\n",
              "      <td>28.0</td>\n",
              "    </tr>\n",
              "    <tr>\n",
              "      <th>YearsEmployed</th>\n",
              "      <td>690.0</td>\n",
              "      <td>2.223406</td>\n",
              "      <td>3.346513</td>\n",
              "      <td>0.0</td>\n",
              "      <td>0.165</td>\n",
              "      <td>1.00</td>\n",
              "      <td>2.6250</td>\n",
              "      <td>28.5</td>\n",
              "    </tr>\n",
              "    <tr>\n",
              "      <th>CreditScore</th>\n",
              "      <td>690.0</td>\n",
              "      <td>2.400000</td>\n",
              "      <td>4.862940</td>\n",
              "      <td>0.0</td>\n",
              "      <td>0.000</td>\n",
              "      <td>0.00</td>\n",
              "      <td>3.0000</td>\n",
              "      <td>67.0</td>\n",
              "    </tr>\n",
              "    <tr>\n",
              "      <th>Income</th>\n",
              "      <td>690.0</td>\n",
              "      <td>1017.385507</td>\n",
              "      <td>5210.102598</td>\n",
              "      <td>0.0</td>\n",
              "      <td>0.000</td>\n",
              "      <td>5.00</td>\n",
              "      <td>395.5000</td>\n",
              "      <td>100000.0</td>\n",
              "    </tr>\n",
              "    <tr>\n",
              "      <th>Approved</th>\n",
              "      <td>690.0</td>\n",
              "      <td>0.444928</td>\n",
              "      <td>0.497318</td>\n",
              "      <td>0.0</td>\n",
              "      <td>0.000</td>\n",
              "      <td>0.00</td>\n",
              "      <td>1.0000</td>\n",
              "      <td>1.0</td>\n",
              "    </tr>\n",
              "  </tbody>\n",
              "</table>\n",
              "</div>"
            ],
            "text/plain": [
              "               count         mean          std  ...   50%       75%       max\n",
              "Debt           690.0     4.758725     4.978163  ...  2.75    7.2075      28.0\n",
              "YearsEmployed  690.0     2.223406     3.346513  ...  1.00    2.6250      28.5\n",
              "CreditScore    690.0     2.400000     4.862940  ...  0.00    3.0000      67.0\n",
              "Income         690.0  1017.385507  5210.102598  ...  5.00  395.5000  100000.0\n",
              "Approved       690.0     0.444928     0.497318  ...  0.00    1.0000       1.0\n",
              "\n",
              "[5 rows x 8 columns]"
            ]
          },
          "metadata": {
            "tags": []
          },
          "execution_count": 188
        }
      ]
    },
    {
      "cell_type": "code",
      "metadata": {
        "id": "O2aB9f5C4MLh"
      },
      "source": [
        "df = df.replace(\"?\", np.nan)"
      ],
      "execution_count": 189,
      "outputs": []
    },
    {
      "cell_type": "code",
      "metadata": {
        "id": "5W3ePrhW5sxI",
        "colab": {
          "base_uri": "https://localhost:8080/"
        },
        "outputId": "2825f3d5-7137-4362-b2a8-9cde386280bf"
      },
      "source": [
        "df.fillna(df.mean(), inplace = True) #eksik degerler\n",
        "df.isna().sum()"
      ],
      "execution_count": 190,
      "outputs": [
        {
          "output_type": "execute_result",
          "data": {
            "text/plain": [
              "Gender            12\n",
              "Age               12\n",
              "Debt               0\n",
              "Married            6\n",
              "BankCustomer       6\n",
              "EducationLevel     9\n",
              "Ethnicity          9\n",
              "YearsEmployed      0\n",
              "PriorDefault       0\n",
              "Employed           0\n",
              "CreditScore        0\n",
              "DriverLicence      0\n",
              "Citizen            0\n",
              "ZipCode           13\n",
              "Income             0\n",
              "Approved           0\n",
              "dtype: int64"
            ]
          },
          "metadata": {
            "tags": []
          },
          "execution_count": 190
        }
      ]
    },
    {
      "cell_type": "code",
      "metadata": {
        "id": "1RpsMoSr6GvT",
        "colab": {
          "base_uri": "https://localhost:8080/"
        },
        "outputId": "7a5e4947-ccde-4a9a-e9e8-5c427eaa59e6"
      },
      "source": [
        "for i in df:\n",
        "    if df[i].dtypes == \"object\":\n",
        "        df = df.fillna(df[i].value_counts().index[0])\n",
        "        \n",
        "df.isna().sum() #eksik degerler giderildi"
      ],
      "execution_count": 191,
      "outputs": [
        {
          "output_type": "execute_result",
          "data": {
            "text/plain": [
              "Gender            0\n",
              "Age               0\n",
              "Debt              0\n",
              "Married           0\n",
              "BankCustomer      0\n",
              "EducationLevel    0\n",
              "Ethnicity         0\n",
              "YearsEmployed     0\n",
              "PriorDefault      0\n",
              "Employed          0\n",
              "CreditScore       0\n",
              "DriverLicence     0\n",
              "Citizen           0\n",
              "ZipCode           0\n",
              "Income            0\n",
              "Approved          0\n",
              "dtype: int64"
            ]
          },
          "metadata": {
            "tags": []
          },
          "execution_count": 191
        }
      ]
    },
    {
      "cell_type": "code",
      "metadata": {
        "id": "aiI5ZfEVwQsS",
        "colab": {
          "base_uri": "https://localhost:8080/",
          "height": 298
        },
        "outputId": "13c540c7-c91c-4fbe-8995-eb3b3e46afeb"
      },
      "source": [
        "df['EducationLevel'].value_counts(normalize = True)\n",
        "df['EducationLevel'].value_counts(dropna = False).plot.bar()\n",
        "plt.title('Comparison of EducationLevel')\n",
        "plt.xlabel('EducationLevel')\n",
        "plt.ylabel('count')\n",
        "plt.show()"
      ],
      "execution_count": 192,
      "outputs": [
        {
          "output_type": "display_data",
          "data": {
            "image/png": "[encoded data removed]",
            "text/plain": [
              "<Figure size 432x288 with 1 Axes>"
            ]
          },
          "metadata": {
            "tags": [],
            "needs_background": "light"
          }
        }
      ]
    },
    {
      "cell_type": "code",
      "metadata": {
        "id": "uJXXAdgzwQQH",
        "colab": {
          "base_uri": "https://localhost:8080/",
          "height": 672
        },
        "outputId": "459b5416-48d9-4316-898f-a561c21030e3"
      },
      "source": [
        "x = pd.crosstab(df['EducationLevel'], df['Approved'])\n",
        "x.div(x.sum(1).astype(float), axis = 0).plot(kind = 'bar', stacked = True, figsize = (9, 5))\n",
        "x = pd.crosstab(df['CreditScore'], df['Approved'])\n",
        "x.div(x.sum(1).astype(float), axis = 0).plot(kind = 'bar', stacked = True, figsize = (9, 5))"
      ],
      "execution_count": 193,
      "outputs": [
        {
          "output_type": "execute_result",
          "data": {
            "text/plain": [
              "<matplotlib.axes._subplots.AxesSubplot at 0x7f7446420810>"
            ]
          },
          "metadata": {
            "tags": []
          },
          "execution_count": 193
        },
        {
          "output_type": "display_data",
          "data": {
            "image/png": "[encoded data removed]",
            "text/plain": [
              "<Figure size 648x360 with 1 Axes>"
            ]
          },
          "metadata": {
            "tags": [],
            "needs_background": "light"
          }
        },
        {
          "output_type": "display_data",
          "data": {
            "image/png": "[encoded data removed]",
            "text/plain": [
              "<Figure size 648x360 with 1 Axes>"
            ]
          },
          "metadata": {
            "tags": [],
            "needs_background": "light"
          }
        }
      ]
    },
    {
      "cell_type": "code",
      "metadata": {
        "id": "E0N8pFO56xBq"
      },
      "source": [
        "le = LabelEncoder()\n",
        "for i in df:\n",
        "    if df[i].dtypes == \"object\":\n",
        "       df[i] = le.fit_transform(df[i]) #sayısal olmayan değerleri sayısal değerlere dönüştür"
      ],
      "execution_count": 194,
      "outputs": []
    },
    {
      "cell_type": "code",
      "metadata": {
        "id": "RxdzJq7e4qMl"
      },
      "source": [
        "df = df.drop(['DriverLicence', 'ZipCode'], axis = 1)"
      ],
      "execution_count": 195,
      "outputs": []
    },
    {
      "cell_type": "code",
      "metadata": {
        "id": "RL20s9ohf84T",
        "colab": {
          "base_uri": "https://localhost:8080/",
          "height": 195
        },
        "outputId": "469ba3d3-f503-4234-f649-2aec044a5ea0"
      },
      "source": [
        "df.head()"
      ],
      "execution_count": 196,
      "outputs": [
        {
          "output_type": "execute_result",
          "data": {
            "text/html": [
              "<div>\n",
              "<style scoped>\n",
              "    .dataframe tbody tr th:only-of-type {\n",
              "        vertical-align: middle;\n",
              "    }\n",
              "\n",
              "    .dataframe tbody tr th {\n",
              "        vertical-align: top;\n",
              "    }\n",
              "\n",
              "    .dataframe thead th {\n",
              "        text-align: right;\n",
              "    }\n",
              "</style>\n",
              "<table border=\"1\" class=\"dataframe\">\n",
              "  <thead>\n",
              "    <tr style=\"text-align: right;\">\n",
              "      <th></th>\n",
              "      <th>Gender</th>\n",
              "      <th>Age</th>\n",
              "      <th>Debt</th>\n",
              "      <th>Married</th>\n",
              "      <th>BankCustomer</th>\n",
              "      <th>EducationLevel</th>\n",
              "      <th>Ethnicity</th>\n",
              "      <th>YearsEmployed</th>\n",
              "      <th>PriorDefault</th>\n",
              "      <th>Employed</th>\n",
              "      <th>CreditScore</th>\n",
              "      <th>Citizen</th>\n",
              "      <th>Income</th>\n",
              "      <th>Approved</th>\n",
              "    </tr>\n",
              "  </thead>\n",
              "  <tbody>\n",
              "    <tr>\n",
              "      <th>0</th>\n",
              "      <td>1</td>\n",
              "      <td>156</td>\n",
              "      <td>0.000</td>\n",
              "      <td>2</td>\n",
              "      <td>1</td>\n",
              "      <td>13</td>\n",
              "      <td>8</td>\n",
              "      <td>1.25</td>\n",
              "      <td>1</td>\n",
              "      <td>1</td>\n",
              "      <td>1</td>\n",
              "      <td>0</td>\n",
              "      <td>0</td>\n",
              "      <td>1</td>\n",
              "    </tr>\n",
              "    <tr>\n",
              "      <th>1</th>\n",
              "      <td>0</td>\n",
              "      <td>328</td>\n",
              "      <td>4.460</td>\n",
              "      <td>2</td>\n",
              "      <td>1</td>\n",
              "      <td>11</td>\n",
              "      <td>4</td>\n",
              "      <td>3.04</td>\n",
              "      <td>1</td>\n",
              "      <td>1</td>\n",
              "      <td>6</td>\n",
              "      <td>0</td>\n",
              "      <td>560</td>\n",
              "      <td>1</td>\n",
              "    </tr>\n",
              "    <tr>\n",
              "      <th>2</th>\n",
              "      <td>0</td>\n",
              "      <td>89</td>\n",
              "      <td>0.500</td>\n",
              "      <td>2</td>\n",
              "      <td>1</td>\n",
              "      <td>11</td>\n",
              "      <td>4</td>\n",
              "      <td>1.50</td>\n",
              "      <td>1</td>\n",
              "      <td>0</td>\n",
              "      <td>0</td>\n",
              "      <td>0</td>\n",
              "      <td>824</td>\n",
              "      <td>1</td>\n",
              "    </tr>\n",
              "    <tr>\n",
              "      <th>3</th>\n",
              "      <td>1</td>\n",
              "      <td>125</td>\n",
              "      <td>1.540</td>\n",
              "      <td>2</td>\n",
              "      <td>1</td>\n",
              "      <td>13</td>\n",
              "      <td>8</td>\n",
              "      <td>3.75</td>\n",
              "      <td>1</td>\n",
              "      <td>1</td>\n",
              "      <td>5</td>\n",
              "      <td>0</td>\n",
              "      <td>3</td>\n",
              "      <td>1</td>\n",
              "    </tr>\n",
              "    <tr>\n",
              "      <th>4</th>\n",
              "      <td>1</td>\n",
              "      <td>43</td>\n",
              "      <td>5.625</td>\n",
              "      <td>2</td>\n",
              "      <td>1</td>\n",
              "      <td>13</td>\n",
              "      <td>8</td>\n",
              "      <td>1.71</td>\n",
              "      <td>1</td>\n",
              "      <td>0</td>\n",
              "      <td>0</td>\n",
              "      <td>2</td>\n",
              "      <td>0</td>\n",
              "      <td>1</td>\n",
              "    </tr>\n",
              "  </tbody>\n",
              "</table>\n",
              "</div>"
            ],
            "text/plain": [
              "   Gender  Age   Debt  Married  ...  CreditScore  Citizen  Income  Approved\n",
              "0       1  156  0.000        2  ...            1        0       0         1\n",
              "1       0  328  4.460        2  ...            6        0     560         1\n",
              "2       0   89  0.500        2  ...            0        0     824         1\n",
              "3       1  125  1.540        2  ...            5        0       3         1\n",
              "4       1   43  5.625        2  ...            0        2       0         1\n",
              "\n",
              "[5 rows x 14 columns]"
            ]
          },
          "metadata": {
            "tags": []
          },
          "execution_count": 196
        }
      ]
    },
    {
      "cell_type": "code",
      "metadata": {
        "id": "YUdzkqv91Hss"
      },
      "source": [
        "y = df[\"Approved\"] \n",
        "X = df.drop([\"Approved\"], axis=1)"
      ],
      "execution_count": 197,
      "outputs": []
    },
    {
      "cell_type": "code",
      "metadata": {
        "id": "IcahIfdW159m",
        "colab": {
          "base_uri": "https://localhost:8080/"
        },
        "outputId": "856b4012-2d5d-4c72-fc84-73f58b955e51"
      },
      "source": [
        "y #b.lı degisken"
      ],
      "execution_count": 198,
      "outputs": [
        {
          "output_type": "execute_result",
          "data": {
            "text/plain": [
              "0      1\n",
              "1      1\n",
              "2      1\n",
              "3      1\n",
              "4      1\n",
              "      ..\n",
              "685    0\n",
              "686    0\n",
              "687    0\n",
              "688    0\n",
              "689    0\n",
              "Name: Approved, Length: 690, dtype: int64"
            ]
          },
          "metadata": {
            "tags": []
          },
          "execution_count": 198
        }
      ]
    },
    {
      "cell_type": "code",
      "metadata": {
        "id": "eHXrYTGk19Yb",
        "colab": {
          "base_uri": "https://localhost:8080/",
          "height": 402
        },
        "outputId": "53b0d785-197a-4e72-d889-093498c7fb51"
      },
      "source": [
        "X #b.sız degisken"
      ],
      "execution_count": 199,
      "outputs": [
        {
          "output_type": "execute_result",
          "data": {
            "text/html": [
              "<div>\n",
              "<style scoped>\n",
              "    .dataframe tbody tr th:only-of-type {\n",
              "        vertical-align: middle;\n",
              "    }\n",
              "\n",
              "    .dataframe tbody tr th {\n",
              "        vertical-align: top;\n",
              "    }\n",
              "\n",
              "    .dataframe thead th {\n",
              "        text-align: right;\n",
              "    }\n",
              "</style>\n",
              "<table border=\"1\" class=\"dataframe\">\n",
              "  <thead>\n",
              "    <tr style=\"text-align: right;\">\n",
              "      <th></th>\n",
              "      <th>Gender</th>\n",
              "      <th>Age</th>\n",
              "      <th>Debt</th>\n",
              "      <th>Married</th>\n",
              "      <th>BankCustomer</th>\n",
              "      <th>EducationLevel</th>\n",
              "      <th>Ethnicity</th>\n",
              "      <th>YearsEmployed</th>\n",
              "      <th>PriorDefault</th>\n",
              "      <th>Employed</th>\n",
              "      <th>CreditScore</th>\n",
              "      <th>Citizen</th>\n",
              "      <th>Income</th>\n",
              "    </tr>\n",
              "  </thead>\n",
              "  <tbody>\n",
              "    <tr>\n",
              "      <th>0</th>\n",
              "      <td>1</td>\n",
              "      <td>156</td>\n",
              "      <td>0.000</td>\n",
              "      <td>2</td>\n",
              "      <td>1</td>\n",
              "      <td>13</td>\n",
              "      <td>8</td>\n",
              "      <td>1.25</td>\n",
              "      <td>1</td>\n",
              "      <td>1</td>\n",
              "      <td>1</td>\n",
              "      <td>0</td>\n",
              "      <td>0</td>\n",
              "    </tr>\n",
              "    <tr>\n",
              "      <th>1</th>\n",
              "      <td>0</td>\n",
              "      <td>328</td>\n",
              "      <td>4.460</td>\n",
              "      <td>2</td>\n",
              "      <td>1</td>\n",
              "      <td>11</td>\n",
              "      <td>4</td>\n",
              "      <td>3.04</td>\n",
              "      <td>1</td>\n",
              "      <td>1</td>\n",
              "      <td>6</td>\n",
              "      <td>0</td>\n",
              "      <td>560</td>\n",
              "    </tr>\n",
              "    <tr>\n",
              "      <th>2</th>\n",
              "      <td>0</td>\n",
              "      <td>89</td>\n",
              "      <td>0.500</td>\n",
              "      <td>2</td>\n",
              "      <td>1</td>\n",
              "      <td>11</td>\n",
              "      <td>4</td>\n",
              "      <td>1.50</td>\n",
              "      <td>1</td>\n",
              "      <td>0</td>\n",
              "      <td>0</td>\n",
              "      <td>0</td>\n",
              "      <td>824</td>\n",
              "    </tr>\n",
              "    <tr>\n",
              "      <th>3</th>\n",
              "      <td>1</td>\n",
              "      <td>125</td>\n",
              "      <td>1.540</td>\n",
              "      <td>2</td>\n",
              "      <td>1</td>\n",
              "      <td>13</td>\n",
              "      <td>8</td>\n",
              "      <td>3.75</td>\n",
              "      <td>1</td>\n",
              "      <td>1</td>\n",
              "      <td>5</td>\n",
              "      <td>0</td>\n",
              "      <td>3</td>\n",
              "    </tr>\n",
              "    <tr>\n",
              "      <th>4</th>\n",
              "      <td>1</td>\n",
              "      <td>43</td>\n",
              "      <td>5.625</td>\n",
              "      <td>2</td>\n",
              "      <td>1</td>\n",
              "      <td>13</td>\n",
              "      <td>8</td>\n",
              "      <td>1.71</td>\n",
              "      <td>1</td>\n",
              "      <td>0</td>\n",
              "      <td>0</td>\n",
              "      <td>2</td>\n",
              "      <td>0</td>\n",
              "    </tr>\n",
              "    <tr>\n",
              "      <th>...</th>\n",
              "      <td>...</td>\n",
              "      <td>...</td>\n",
              "      <td>...</td>\n",
              "      <td>...</td>\n",
              "      <td>...</td>\n",
              "      <td>...</td>\n",
              "      <td>...</td>\n",
              "      <td>...</td>\n",
              "      <td>...</td>\n",
              "      <td>...</td>\n",
              "      <td>...</td>\n",
              "      <td>...</td>\n",
              "      <td>...</td>\n",
              "    </tr>\n",
              "    <tr>\n",
              "      <th>685</th>\n",
              "      <td>1</td>\n",
              "      <td>52</td>\n",
              "      <td>10.085</td>\n",
              "      <td>3</td>\n",
              "      <td>3</td>\n",
              "      <td>5</td>\n",
              "      <td>4</td>\n",
              "      <td>1.25</td>\n",
              "      <td>0</td>\n",
              "      <td>0</td>\n",
              "      <td>0</td>\n",
              "      <td>0</td>\n",
              "      <td>0</td>\n",
              "    </tr>\n",
              "    <tr>\n",
              "      <th>686</th>\n",
              "      <td>0</td>\n",
              "      <td>71</td>\n",
              "      <td>0.750</td>\n",
              "      <td>2</td>\n",
              "      <td>1</td>\n",
              "      <td>2</td>\n",
              "      <td>8</td>\n",
              "      <td>2.00</td>\n",
              "      <td>0</td>\n",
              "      <td>1</td>\n",
              "      <td>2</td>\n",
              "      <td>0</td>\n",
              "      <td>394</td>\n",
              "    </tr>\n",
              "    <tr>\n",
              "      <th>687</th>\n",
              "      <td>0</td>\n",
              "      <td>97</td>\n",
              "      <td>13.500</td>\n",
              "      <td>3</td>\n",
              "      <td>3</td>\n",
              "      <td>6</td>\n",
              "      <td>3</td>\n",
              "      <td>2.00</td>\n",
              "      <td>0</td>\n",
              "      <td>1</td>\n",
              "      <td>1</td>\n",
              "      <td>0</td>\n",
              "      <td>1</td>\n",
              "    </tr>\n",
              "    <tr>\n",
              "      <th>688</th>\n",
              "      <td>1</td>\n",
              "      <td>20</td>\n",
              "      <td>0.205</td>\n",
              "      <td>2</td>\n",
              "      <td>1</td>\n",
              "      <td>0</td>\n",
              "      <td>8</td>\n",
              "      <td>0.04</td>\n",
              "      <td>0</td>\n",
              "      <td>0</td>\n",
              "      <td>0</td>\n",
              "      <td>0</td>\n",
              "      <td>750</td>\n",
              "    </tr>\n",
              "    <tr>\n",
              "      <th>689</th>\n",
              "      <td>1</td>\n",
              "      <td>197</td>\n",
              "      <td>3.375</td>\n",
              "      <td>2</td>\n",
              "      <td>1</td>\n",
              "      <td>2</td>\n",
              "      <td>4</td>\n",
              "      <td>8.29</td>\n",
              "      <td>0</td>\n",
              "      <td>0</td>\n",
              "      <td>0</td>\n",
              "      <td>0</td>\n",
              "      <td>0</td>\n",
              "    </tr>\n",
              "  </tbody>\n",
              "</table>\n",
              "<p>690 rows × 13 columns</p>\n",
              "</div>"
            ],
            "text/plain": [
              "     Gender  Age    Debt  Married  ...  Employed  CreditScore  Citizen  Income\n",
              "0         1  156   0.000        2  ...         1            1        0       0\n",
              "1         0  328   4.460        2  ...         1            6        0     560\n",
              "2         0   89   0.500        2  ...         0            0        0     824\n",
              "3         1  125   1.540        2  ...         1            5        0       3\n",
              "4         1   43   5.625        2  ...         0            0        2       0\n",
              "..      ...  ...     ...      ...  ...       ...          ...      ...     ...\n",
              "685       1   52  10.085        3  ...         0            0        0       0\n",
              "686       0   71   0.750        2  ...         1            2        0     394\n",
              "687       0   97  13.500        3  ...         1            1        0       1\n",
              "688       1   20   0.205        2  ...         0            0        0     750\n",
              "689       1  197   3.375        2  ...         0            0        0       0\n",
              "\n",
              "[690 rows x 13 columns]"
            ]
          },
          "metadata": {
            "tags": []
          },
          "execution_count": 199
        }
      ]
    },
    {
      "cell_type": "markdown",
      "metadata": {
        "id": "C8TsM0Hv5TJl"
      },
      "source": [
        "# Logistik Regression"
      ]
    },
    {
      "cell_type": "markdown",
      "metadata": {
        "id": "NOy5nIPe2n8H"
      },
      "source": [
        "### Model & Tahmin"
      ]
    },
    {
      "cell_type": "code",
      "metadata": {
        "id": "OOM0O7JSEpT6"
      },
      "source": [
        "y = df[\"Approved\"] \n",
        "X = df.drop([\"Approved\"], axis=1)\n",
        "X_train, X_test, y_train, y_test = train_test_split(X, y, test_size = 0.30, random_state = 42)"
      ],
      "execution_count": 200,
      "outputs": []
    },
    {
      "cell_type": "code",
      "metadata": {
        "id": "_GrO4ogl2F8E"
      },
      "source": [
        "log_model = LogisticRegression(solver = \"liblinear\").fit(X_train,y_train)"
      ],
      "execution_count": 201,
      "outputs": []
    },
    {
      "cell_type": "code",
      "metadata": {
        "id": "Czq6F-gL2ny-",
        "colab": {
          "base_uri": "https://localhost:8080/"
        },
        "outputId": "e297dff0-eae4-4093-f97c-7181be82240f"
      },
      "source": [
        "log_model"
      ],
      "execution_count": 202,
      "outputs": [
        {
          "output_type": "execute_result",
          "data": {
            "text/plain": [
              "LogisticRegression(C=1.0, class_weight=None, dual=False, fit_intercept=True,\n",
              "                   intercept_scaling=1, l1_ratio=None, max_iter=100,\n",
              "                   multi_class='auto', n_jobs=None, penalty='l2',\n",
              "                   random_state=None, solver='liblinear', tol=0.0001, verbose=0,\n",
              "                   warm_start=False)"
            ]
          },
          "metadata": {
            "tags": []
          },
          "execution_count": 202
        }
      ]
    },
    {
      "cell_type": "code",
      "metadata": {
        "id": "l1xmboQe3_Xu"
      },
      "source": [
        "log_model.intercept_"
      ],
      "execution_count": null,
      "outputs": []
    },
    {
      "cell_type": "code",
      "metadata": {
        "id": "i-QUQElb8hah"
      },
      "source": [
        "log_model.coef_"
      ],
      "execution_count": null,
      "outputs": []
    },
    {
      "cell_type": "code",
      "metadata": {
        "id": "vf-8-2oy8jff"
      },
      "source": [
        "log_model.predict(X_train)[0:10] #basitce tahmin edilen y degerleri "
      ],
      "execution_count": null,
      "outputs": []
    },
    {
      "cell_type": "code",
      "metadata": {
        "id": "syUJ8BIaFLj3"
      },
      "source": [
        "log_model.predict(X_test)[0:10]"
      ],
      "execution_count": null,
      "outputs": []
    },
    {
      "cell_type": "code",
      "metadata": {
        "id": "EsyhDXVR9h9K"
      },
      "source": [
        "y_pred = log_model.predict(X_test) #tahmin degerleri y_prede atandi"
      ],
      "execution_count": 203,
      "outputs": []
    },
    {
      "cell_type": "code",
      "metadata": {
        "id": "2hqFrycb8uxH",
        "colab": {
          "base_uri": "https://localhost:8080/"
        },
        "outputId": "56655977-5ddb-4a4d-cc40-0d6caf6a1646"
      },
      "source": [
        "confusion_matrix(y_test, y_pred) #karmasiklik matrisiyle model basarisi degerlendirmesi "
      ],
      "execution_count": 204,
      "outputs": [
        {
          "output_type": "execute_result",
          "data": {
            "text/plain": [
              "array([[89, 21],\n",
              "       [11, 86]])"
            ]
          },
          "metadata": {
            "tags": []
          },
          "execution_count": 204
        }
      ]
    },
    {
      "cell_type": "code",
      "metadata": {
        "id": "CIkBdaN59LpO",
        "colab": {
          "base_uri": "https://localhost:8080/"
        },
        "outputId": "b11f37d9-fec3-4026-d5ae-757617f20707"
      },
      "source": [
        "accuracy_score(y_test,y_pred) #dogruluk orani, basarili tahmin/tum durum"
      ],
      "execution_count": 205,
      "outputs": [
        {
          "output_type": "execute_result",
          "data": {
            "text/plain": [
              "0.8454106280193237"
            ]
          },
          "metadata": {
            "tags": []
          },
          "execution_count": 205
        }
      ]
    },
    {
      "cell_type": "markdown",
      "metadata": {
        "id": "buCOxRMIIrwq"
      },
      "source": [
        "### Model Tuning (Doğrulama)"
      ]
    },
    {
      "cell_type": "code",
      "metadata": {
        "id": "d6FCOTxvqFhD"
      },
      "source": [
        "y = df[\"Approved\"] \n",
        "X = df.drop([\"Approved\"], axis=1)\n",
        "X_train, X_test, y_train, y_test = train_test_split(X, y, test_size = 0.30, random_state = 42)"
      ],
      "execution_count": null,
      "outputs": []
    },
    {
      "cell_type": "code",
      "metadata": {
        "id": "PtIkoPK1-QbH"
      },
      "source": [
        "log_model = LogisticRegression(solver = \"liblinear\").fit(X_train,y_train)\n",
        "log_model"
      ],
      "execution_count": null,
      "outputs": []
    },
    {
      "cell_type": "code",
      "metadata": {
        "id": "c1bLukLDLRJK"
      },
      "source": [
        "log_params = {\"tol\":[0.01, 0.001, 0.0001],\n",
        "              \"max_iter\":[100, 150, 200]}"
      ],
      "execution_count": null,
      "outputs": []
    },
    {
      "cell_type": "code",
      "metadata": {
        "id": "od2W4g2BLRB8"
      },
      "source": [
        "log_cv_model = GridSearchCV(log_model, log_params, cv=10).fit(X_train, y_train)"
      ],
      "execution_count": 207,
      "outputs": []
    },
    {
      "cell_type": "code",
      "metadata": {
        "id": "eNK0v4ulLQ0N",
        "colab": {
          "base_uri": "https://localhost:8080/"
        },
        "outputId": "25c49222-b918-4190-e6f8-75717d74daa7"
      },
      "source": [
        "log_cv_model.best_params_"
      ],
      "execution_count": 208,
      "outputs": [
        {
          "output_type": "execute_result",
          "data": {
            "text/plain": [
              "{'max_iter': 100, 'tol': 0.0001}"
            ]
          },
          "metadata": {
            "tags": []
          },
          "execution_count": 208
        }
      ]
    },
    {
      "cell_type": "code",
      "metadata": {
        "id": "h5qALTjdUWhZ"
      },
      "source": [
        "y_pred = log_model.predict(X_test) #tahmin degerleri y_prede atandi"
      ],
      "execution_count": 209,
      "outputs": []
    },
    {
      "cell_type": "code",
      "metadata": {
        "id": "eQI62uIfUWha",
        "colab": {
          "base_uri": "https://localhost:8080/"
        },
        "outputId": "2522095b-5f58-4a78-8ef6-b962a341ebfd"
      },
      "source": [
        "accuracy_score(y_test,y_pred) #dogruluk orani, basarili tahmin/tum durum"
      ],
      "execution_count": 210,
      "outputs": [
        {
          "output_type": "execute_result",
          "data": {
            "text/plain": [
              "0.8454106280193237"
            ]
          },
          "metadata": {
            "tags": []
          },
          "execution_count": 210
        }
      ]
    },
    {
      "cell_type": "markdown",
      "metadata": {
        "id": "AH7lzGl-NjQ7"
      },
      "source": [
        "#KNN (k-nearest neighbours)"
      ]
    },
    {
      "cell_type": "markdown",
      "metadata": {
        "id": "C2hixT-FOoI4"
      },
      "source": [
        "\n",
        "### Model & Tahmin\n"
      ]
    },
    {
      "cell_type": "code",
      "metadata": {
        "id": "LWecQQ1eqOY2"
      },
      "source": [
        "y = df[\"Approved\"] \n",
        "X = df.drop([\"Approved\"], axis=1)\n",
        "X_train, X_test, y_train, y_test = train_test_split(X, y, test_size = 0.30, random_state = 42)"
      ],
      "execution_count": null,
      "outputs": []
    },
    {
      "cell_type": "code",
      "metadata": {
        "id": "Jz86zo3cOelS"
      },
      "source": [
        "knn_model = KNeighborsClassifier().fit(X_train, y_train)"
      ],
      "execution_count": 211,
      "outputs": []
    },
    {
      "cell_type": "code",
      "metadata": {
        "id": "CruyXUqc6DDR"
      },
      "source": [
        "knn_model"
      ],
      "execution_count": null,
      "outputs": []
    },
    {
      "cell_type": "code",
      "metadata": {
        "id": "LudjYNMH6Ecn"
      },
      "source": [
        "y_pred = knn_model.predict(X_test)"
      ],
      "execution_count": 212,
      "outputs": []
    },
    {
      "cell_type": "code",
      "metadata": {
        "id": "0HlWk-aC6K8Y",
        "colab": {
          "base_uri": "https://localhost:8080/"
        },
        "outputId": "da25629f-bc0c-40d2-d52a-4e7ee0a86121"
      },
      "source": [
        "accuracy_score(y_test, y_pred)"
      ],
      "execution_count": 214,
      "outputs": [
        {
          "output_type": "execute_result",
          "data": {
            "text/plain": [
              "0.6714975845410628"
            ]
          },
          "metadata": {
            "tags": []
          },
          "execution_count": 214
        }
      ]
    },
    {
      "cell_type": "markdown",
      "metadata": {
        "id": "PcdlPUX96jsc"
      },
      "source": [
        "### Model Tuning\n"
      ]
    },
    {
      "cell_type": "code",
      "metadata": {
        "id": "V2GifzHUqVNc"
      },
      "source": [
        "y = df[\"Approved\"] \n",
        "X = df.drop([\"Approved\"], axis=1)\n",
        "X_train, X_test, y_train, y_test = train_test_split(X, y, test_size = 0.30, random_state = 42)"
      ],
      "execution_count": null,
      "outputs": []
    },
    {
      "cell_type": "code",
      "metadata": {
        "id": "R_5hXQ8S6pul"
      },
      "source": [
        "knn= KNeighborsClassifier()"
      ],
      "execution_count": null,
      "outputs": []
    },
    {
      "cell_type": "code",
      "metadata": {
        "id": "Tk9aAsW86s3d"
      },
      "source": [
        "knn_params = {\"n_neighbors\": np.arange(1, 50)}"
      ],
      "execution_count": null,
      "outputs": []
    },
    {
      "cell_type": "code",
      "metadata": {
        "id": "j4AsL1HP64IF"
      },
      "source": [
        "knn_cv_model = GridSearchCV(knn, knn_params, cv=10).fit(X_train, y_train)"
      ],
      "execution_count": null,
      "outputs": []
    },
    {
      "cell_type": "code",
      "metadata": {
        "id": "bflBh-Nh7HfC"
      },
      "source": [
        "knn_cv_model.best_score_"
      ],
      "execution_count": null,
      "outputs": []
    },
    {
      "cell_type": "code",
      "metadata": {
        "id": "C9gNn-u07TvD"
      },
      "source": [
        "knn_cv_model.best_params_"
      ],
      "execution_count": null,
      "outputs": []
    },
    {
      "cell_type": "code",
      "metadata": {
        "id": "fhKcxlxI7XZv"
      },
      "source": [
        "#final model\n",
        "knn_tuned = KNeighborsClassifier(n_neighbors = 5).fit(X_train, y_train)"
      ],
      "execution_count": 216,
      "outputs": []
    },
    {
      "cell_type": "code",
      "metadata": {
        "id": "FqX43Ipt7jDm"
      },
      "source": [
        "y_pred = knn_tuned.predict(X_test)"
      ],
      "execution_count": 217,
      "outputs": []
    },
    {
      "cell_type": "code",
      "metadata": {
        "id": "ttuwlorO7q8U",
        "colab": {
          "base_uri": "https://localhost:8080/"
        },
        "outputId": "e5b26e65-2867-4dbc-a993-1504a9f16733"
      },
      "source": [
        "accuracy_score(y_test, y_pred)"
      ],
      "execution_count": 218,
      "outputs": [
        {
          "output_type": "execute_result",
          "data": {
            "text/plain": [
              "0.6714975845410628"
            ]
          },
          "metadata": {
            "tags": []
          },
          "execution_count": 218
        }
      ]
    },
    {
      "cell_type": "markdown",
      "metadata": {
        "id": "yEmaNUjJ81zS"
      },
      "source": [
        "# Support Vector Machines (SVM)"
      ]
    },
    {
      "cell_type": "markdown",
      "metadata": {
        "id": "AT8Kf4Xl9A20"
      },
      "source": [
        "### Model & Tahmin"
      ]
    },
    {
      "cell_type": "code",
      "metadata": {
        "id": "Aq5jTQyuAZIT"
      },
      "source": [
        "y = df[\"Approved\"] \n",
        "X = df.drop([\"Approved\"], axis=1)\n",
        "X_train, X_test, y_train, y_test = train_test_split(X, y, test_size = 0.30, random_state = 42)"
      ],
      "execution_count": null,
      "outputs": []
    },
    {
      "cell_type": "code",
      "metadata": {
        "id": "ik1oP0dU7tf_"
      },
      "source": [
        "svm_model = SVC(kernel=\"linear\").fit(X_train, y_train)"
      ],
      "execution_count": null,
      "outputs": []
    },
    {
      "cell_type": "code",
      "metadata": {
        "id": "o9OBpnusAhxl"
      },
      "source": [
        "svm_model"
      ],
      "execution_count": null,
      "outputs": []
    },
    {
      "cell_type": "code",
      "metadata": {
        "id": "pp_sKFZjAjTn"
      },
      "source": [
        "y_pred = svm_model.predict(X_test)"
      ],
      "execution_count": 220,
      "outputs": []
    },
    {
      "cell_type": "code",
      "metadata": {
        "id": "-rV2_Z0fB0nl",
        "colab": {
          "base_uri": "https://localhost:8080/"
        },
        "outputId": "45da2be5-eff6-4379-d10e-059d7c4a6969"
      },
      "source": [
        "accuracy_score(y_test,y_pred)"
      ],
      "execution_count": 221,
      "outputs": [
        {
          "output_type": "execute_result",
          "data": {
            "text/plain": [
              "0.8405797101449275"
            ]
          },
          "metadata": {
            "tags": []
          },
          "execution_count": 221
        }
      ]
    },
    {
      "cell_type": "markdown",
      "metadata": {
        "id": "p9ltUHt6CBFh"
      },
      "source": [
        "### Model Tuning"
      ]
    },
    {
      "cell_type": "code",
      "metadata": {
        "id": "igBY1f77svHw"
      },
      "source": [
        "y = df[\"Approved\"] \n",
        "X = df.drop([\"Approved\"], axis=1)\n",
        "X_train, X_test, y_train, y_test = train_test_split(X, y, test_size = 0.30, random_state = 42)"
      ],
      "execution_count": null,
      "outputs": []
    },
    {
      "cell_type": "code",
      "metadata": {
        "id": "ot3-Lp7-CgEM"
      },
      "source": [
        "svm = SVC()"
      ],
      "execution_count": null,
      "outputs": []
    },
    {
      "cell_type": "code",
      "metadata": {
        "id": "M-W3qQBSB4es"
      },
      "source": [
        "svm_params = {\"C\": np.arange(1,5), \"kernel\": [\"linear\", \"rbf\"]}"
      ],
      "execution_count": null,
      "outputs": []
    },
    {
      "cell_type": "code",
      "metadata": {
        "colab": {
          "background_save": true,
          "base_uri": "https://localhost:8080/"
        },
        "id": "prodbKVmCYLg",
        "outputId": "2b4ad9c7-9913-4ffd-b9e7-58b027f9aebd"
      },
      "source": [
        "svm_cv_model = GridSearchCV(svm, svm_params, cv=5, n_jobs=-1, verbose=2).fit(X_train,y_train)"
      ],
      "execution_count": null,
      "outputs": [
        {
          "output_type": "stream",
          "text": [
            "Fitting 5 folds for each of 8 candidates, totalling 40 fits\n"
          ],
          "name": "stdout"
        },
        {
          "output_type": "stream",
          "text": [
            "[Parallel(n_jobs=-1)]: Using backend LokyBackend with 2 concurrent workers.\n",
            "[Parallel(n_jobs=-1)]: Done  37 tasks      | elapsed: 53.8min\n",
            "[Parallel(n_jobs=-1)]: Done  40 out of  40 | elapsed: 56.7min finished\n"
          ],
          "name": "stderr"
        }
      ]
    },
    {
      "cell_type": "code",
      "metadata": {
        "colab": {
          "background_save": true,
          "base_uri": "https://localhost:8080/"
        },
        "id": "NFrVke7rCzRo",
        "outputId": "196d0081-f01e-49d8-eb48-4cd37b92f5e7"
      },
      "source": [
        "svm_cv_model.best_params_"
      ],
      "execution_count": null,
      "outputs": [
        {
          "output_type": "execute_result",
          "data": {
            "text/plain": [
              "{'C': 1, 'kernel': 'linear'}"
            ]
          },
          "metadata": {
            "tags": []
          },
          "execution_count": 0
        }
      ]
    },
    {
      "cell_type": "code",
      "metadata": {
        "id": "z4Q8WTmDDW75"
      },
      "source": [
        "#final model\n",
        "svm_tuned = SVC(C=1, kernel=\"linear\").fit(X_train, y_train)"
      ],
      "execution_count": null,
      "outputs": []
    },
    {
      "cell_type": "code",
      "metadata": {
        "id": "Weg7NfUSDXIS"
      },
      "source": [
        "y_pred = svm_tuned.predict(X_test)"
      ],
      "execution_count": null,
      "outputs": []
    },
    {
      "cell_type": "code",
      "metadata": {
        "colab": {
          "base_uri": "https://localhost:8080/"
        },
        "id": "Rh-33ohtDt7-",
        "outputId": "1f6ad265-0aef-4566-ecbc-fc9522d4d6de"
      },
      "source": [
        "accuracy_score(y_test,y_pred)"
      ],
      "execution_count": null,
      "outputs": [
        {
          "output_type": "execute_result",
          "data": {
            "text/plain": [
              "0.8405797101449275"
            ]
          },
          "metadata": {
            "tags": []
          },
          "execution_count": 67
        }
      ]
    },
    {
      "cell_type": "markdown",
      "metadata": {
        "id": "qt9us176EEzt"
      },
      "source": [
        "# Yapay sinir ağları"
      ]
    },
    {
      "cell_type": "markdown",
      "metadata": {
        "id": "V0fyqEDrELeT"
      },
      "source": [
        "### Model & Tahmin"
      ]
    },
    {
      "cell_type": "code",
      "metadata": {
        "id": "3X69EddE-TIt"
      },
      "source": [
        "y = df[\"Approved\"] \n",
        "X = df.drop([\"Approved\"], axis=1)\n",
        "X_train, X_test, y_train, y_test = train_test_split(X, y, test_size = 0.30, random_state = 42)"
      ],
      "execution_count": null,
      "outputs": []
    },
    {
      "cell_type": "code",
      "metadata": {
        "id": "x5PhXqc9bR19"
      },
      "source": [
        "scaler = StandardScaler()"
      ],
      "execution_count": null,
      "outputs": []
    },
    {
      "cell_type": "code",
      "metadata": {
        "id": "fsKqDgTvbRp7"
      },
      "source": [
        "scaler.fit(X_train)\n",
        "X_train = scaler.transform(X_train)"
      ],
      "execution_count": null,
      "outputs": []
    },
    {
      "cell_type": "code",
      "metadata": {
        "id": "MjKD-GOWcODd"
      },
      "source": [
        "scaler.fit(X_test)\n",
        "X_test = scaler.transform(X_test)"
      ],
      "execution_count": null,
      "outputs": []
    },
    {
      "cell_type": "code",
      "metadata": {
        "colab": {
          "base_uri": "https://localhost:8080/"
        },
        "id": "FFDCkoAoL-rY",
        "outputId": "35b426b2-4878-45c5-9573-10a8a0a2562d"
      },
      "source": [
        "mlpc_model = MLPClassifier().fit(X_train, y_train)"
      ],
      "execution_count": null,
      "outputs": [
        {
          "output_type": "stream",
          "text": [
            "/usr/local/lib/python3.7/dist-packages/sklearn/neural_network/_multilayer_perceptron.py:571: ConvergenceWarning: Stochastic Optimizer: Maximum iterations (200) reached and the optimization hasn't converged yet.\n",
            "  % self.max_iter, ConvergenceWarning)\n"
          ],
          "name": "stderr"
        }
      ]
    },
    {
      "cell_type": "code",
      "metadata": {
        "colab": {
          "base_uri": "https://localhost:8080/"
        },
        "id": "QBAxhJEIgovX",
        "outputId": "b905c9d6-1000-497e-c5e2-b5028c1f174d"
      },
      "source": [
        "mlpc_model"
      ],
      "execution_count": null,
      "outputs": [
        {
          "output_type": "execute_result",
          "data": {
            "text/plain": [
              "MLPClassifier(activation='relu', alpha=0.0001, batch_size='auto', beta_1=0.9,\n",
              "              beta_2=0.999, early_stopping=False, epsilon=1e-08,\n",
              "              hidden_layer_sizes=(100,), learning_rate='constant',\n",
              "              learning_rate_init=0.001, max_fun=15000, max_iter=200,\n",
              "              momentum=0.9, n_iter_no_change=10, nesterovs_momentum=True,\n",
              "              power_t=0.5, random_state=None, shuffle=True, solver='adam',\n",
              "              tol=0.0001, validation_fraction=0.1, verbose=False,\n",
              "              warm_start=False)"
            ]
          },
          "metadata": {
            "tags": []
          },
          "execution_count": 73
        }
      ]
    },
    {
      "cell_type": "code",
      "metadata": {
        "id": "6En52zvOMQQn"
      },
      "source": [
        "mlpc_model.coefs_"
      ],
      "execution_count": null,
      "outputs": []
    },
    {
      "cell_type": "code",
      "metadata": {
        "id": "V_MFeQ2xVX9l"
      },
      "source": [
        "y_pred = mlpc_model.predict(X_test)"
      ],
      "execution_count": null,
      "outputs": []
    },
    {
      "cell_type": "code",
      "metadata": {
        "colab": {
          "base_uri": "https://localhost:8080/"
        },
        "id": "VtkMq1ErVluf",
        "outputId": "40565883-c736-4129-c32b-a42dfaa7ea41"
      },
      "source": [
        "accuracy_score(y_test, y_pred)"
      ],
      "execution_count": null,
      "outputs": [
        {
          "output_type": "execute_result",
          "data": {
            "text/plain": [
              "0.8599033816425121"
            ]
          },
          "metadata": {
            "tags": []
          },
          "execution_count": 76
        }
      ]
    },
    {
      "cell_type": "markdown",
      "metadata": {
        "id": "QFam-WvjVhGv"
      },
      "source": [
        "### Model Tuning"
      ]
    },
    {
      "cell_type": "code",
      "metadata": {
        "id": "CFeNWeWBsw67"
      },
      "source": [
        "y = df[\"Approved\"] \n",
        "X = df.drop([\"Approved\"], axis=1)\n",
        "X_train, X_test, y_train, y_test = train_test_split(X, y, test_size = 0.30, random_state = 42)"
      ],
      "execution_count": null,
      "outputs": []
    },
    {
      "cell_type": "code",
      "metadata": {
        "id": "utbvBzmDWn9C"
      },
      "source": [
        "mlpc_params = {\"alpha\": [1, 5, 0.1, 0.03],\n",
        "               \"hidden_layer_sizes\": [(10,10), (3,5)]}"
      ],
      "execution_count": null,
      "outputs": []
    },
    {
      "cell_type": "code",
      "metadata": {
        "id": "4pveq5WrWizC"
      },
      "source": [
        "mlpc = MLPClassifier(solver = \"lbfgs\", activation=\"logistic\")"
      ],
      "execution_count": null,
      "outputs": []
    },
    {
      "cell_type": "code",
      "metadata": {
        "colab": {
          "base_uri": "https://localhost:8080/"
        },
        "id": "te5CabX3WnzE",
        "outputId": "82dc4402-64ee-433b-cc14-e80331c69534"
      },
      "source": [
        "mlpc_cv_model = GridSearchCV(mlpc, mlpc_params, cv=5, n_jobs=-1, verbose=2).fit(X_train, y_train)"
      ],
      "execution_count": null,
      "outputs": [
        {
          "output_type": "stream",
          "text": [
            "Fitting 5 folds for each of 8 candidates, totalling 40 fits\n"
          ],
          "name": "stdout"
        },
        {
          "output_type": "stream",
          "text": [
            "[Parallel(n_jobs=-1)]: Using backend LokyBackend with 2 concurrent workers.\n",
            "[Parallel(n_jobs=-1)]: Done  37 tasks      | elapsed:    6.2s\n",
            "[Parallel(n_jobs=-1)]: Done  40 out of  40 | elapsed:    6.4s finished\n",
            "/usr/local/lib/python3.7/dist-packages/sklearn/neural_network/_multilayer_perceptron.py:470: ConvergenceWarning: lbfgs failed to converge (status=1):\n",
            "STOP: TOTAL NO. of ITERATIONS REACHED LIMIT.\n",
            "\n",
            "Increase the number of iterations (max_iter) or scale the data as shown in:\n",
            "    https://scikit-learn.org/stable/modules/preprocessing.html\n",
            "  self.n_iter_ = _check_optimize_result(\"lbfgs\", opt_res, self.max_iter)\n"
          ],
          "name": "stderr"
        }
      ]
    },
    {
      "cell_type": "code",
      "metadata": {
        "colab": {
          "base_uri": "https://localhost:8080/"
        },
        "id": "RWAAkwuZWnrP",
        "outputId": "21449cce-50c2-4282-e573-1eeee56c5ca6"
      },
      "source": [
        "mlpc_cv_model.best_params_"
      ],
      "execution_count": null,
      "outputs": [
        {
          "output_type": "execute_result",
          "data": {
            "text/plain": [
              "{'alpha': 1, 'hidden_layer_sizes': (3, 5)}"
            ]
          },
          "metadata": {
            "tags": []
          },
          "execution_count": 81
        }
      ]
    },
    {
      "cell_type": "code",
      "metadata": {
        "colab": {
          "base_uri": "https://localhost:8080/"
        },
        "id": "xp0YB1BMaSrO",
        "outputId": "5129343b-679e-4a7e-ce1c-92f31c0f1614"
      },
      "source": [
        "#final model\n",
        "mlpc_tuned = MLPClassifier(solver = \"lbfgs\", activation=\"logistic\", alpha=1, hidden_layer_sizes=(3,5) ).fit(X_train, y_train)"
      ],
      "execution_count": null,
      "outputs": [
        {
          "output_type": "stream",
          "text": [
            "/usr/local/lib/python3.7/dist-packages/sklearn/neural_network/_multilayer_perceptron.py:470: ConvergenceWarning: lbfgs failed to converge (status=1):\n",
            "STOP: TOTAL NO. of ITERATIONS REACHED LIMIT.\n",
            "\n",
            "Increase the number of iterations (max_iter) or scale the data as shown in:\n",
            "    https://scikit-learn.org/stable/modules/preprocessing.html\n",
            "  self.n_iter_ = _check_optimize_result(\"lbfgs\", opt_res, self.max_iter)\n"
          ],
          "name": "stderr"
        }
      ]
    },
    {
      "cell_type": "code",
      "metadata": {
        "colab": {
          "base_uri": "https://localhost:8080/"
        },
        "id": "CoIZa0kgg0_E",
        "outputId": "a43a9450-181a-4e5a-f913-449a2eca58b0"
      },
      "source": [
        "mlpc_tuned"
      ],
      "execution_count": null,
      "outputs": [
        {
          "output_type": "execute_result",
          "data": {
            "text/plain": [
              "MLPClassifier(activation='logistic', alpha=1, batch_size='auto', beta_1=0.9,\n",
              "              beta_2=0.999, early_stopping=False, epsilon=1e-08,\n",
              "              hidden_layer_sizes=(3, 5), learning_rate='constant',\n",
              "              learning_rate_init=0.001, max_fun=15000, max_iter=200,\n",
              "              momentum=0.9, n_iter_no_change=10, nesterovs_momentum=True,\n",
              "              power_t=0.5, random_state=None, shuffle=True, solver='lbfgs',\n",
              "              tol=0.0001, validation_fraction=0.1, verbose=False,\n",
              "              warm_start=False)"
            ]
          },
          "metadata": {
            "tags": []
          },
          "execution_count": 83
        }
      ]
    },
    {
      "cell_type": "code",
      "metadata": {
        "id": "nER57XRGWnie"
      },
      "source": [
        "y_pred = mlpc_tuned.predict(X_test)"
      ],
      "execution_count": null,
      "outputs": []
    },
    {
      "cell_type": "code",
      "metadata": {
        "colab": {
          "base_uri": "https://localhost:8080/"
        },
        "id": "wFhet3lraRcF",
        "outputId": "76e08018-7c73-4544-ce89-f28de77d40a2"
      },
      "source": [
        "accuracy_score(y_test, y_pred)"
      ],
      "execution_count": null,
      "outputs": [
        {
          "output_type": "execute_result",
          "data": {
            "text/plain": [
              "0.8309178743961353"
            ]
          },
          "metadata": {
            "tags": []
          },
          "execution_count": 85
        }
      ]
    },
    {
      "cell_type": "markdown",
      "metadata": {
        "id": "VQYSw0CkcfWf"
      },
      "source": [
        "# CART"
      ]
    },
    {
      "cell_type": "markdown",
      "metadata": {
        "id": "M0u-aLmwcgJz"
      },
      "source": [
        "###Model & Tahmin "
      ]
    },
    {
      "cell_type": "code",
      "metadata": {
        "id": "Etm35P949_Z3"
      },
      "source": [
        "y = df[\"Approved\"] \n",
        "X = df.drop([\"Approved\"], axis=1)\n",
        "X_train, X_test, y_train, y_test = train_test_split(X, y, test_size = 0.30, random_state = 42)"
      ],
      "execution_count": null,
      "outputs": []
    },
    {
      "cell_type": "code",
      "metadata": {
        "id": "Sjn9fwhHa1pQ"
      },
      "source": [
        "cart_model = DecisionTreeClassifier().fit(X_train, y_train)"
      ],
      "execution_count": null,
      "outputs": []
    },
    {
      "cell_type": "code",
      "metadata": {
        "colab": {
          "base_uri": "https://localhost:8080/"
        },
        "id": "tOpd7aS8irUs",
        "outputId": "e6be4368-6285-43ff-fe4a-bed4f4d05a4b"
      },
      "source": [
        "cart_model"
      ],
      "execution_count": null,
      "outputs": [
        {
          "output_type": "execute_result",
          "data": {
            "text/plain": [
              "DecisionTreeClassifier(ccp_alpha=0.0, class_weight=None, criterion='gini',\n",
              "                       max_depth=None, max_features=None, max_leaf_nodes=None,\n",
              "                       min_impurity_decrease=0.0, min_impurity_split=None,\n",
              "                       min_samples_leaf=1, min_samples_split=2,\n",
              "                       min_weight_fraction_leaf=0.0, presort='deprecated',\n",
              "                       random_state=None, splitter='best')"
            ]
          },
          "metadata": {
            "tags": []
          },
          "execution_count": 88
        }
      ]
    },
    {
      "cell_type": "code",
      "metadata": {
        "id": "WLRq7mYIa1dA"
      },
      "source": [
        "y_pred = cart_model.predict(X_test)"
      ],
      "execution_count": null,
      "outputs": []
    },
    {
      "cell_type": "code",
      "metadata": {
        "colab": {
          "base_uri": "https://localhost:8080/"
        },
        "id": "dBCE_frba1V4",
        "outputId": "5ca719ba-e507-41a6-8e9c-ed0de589276b"
      },
      "source": [
        "accuracy_score(y_test, y_pred)"
      ],
      "execution_count": null,
      "outputs": [
        {
          "output_type": "execute_result",
          "data": {
            "text/plain": [
              "0.8405797101449275"
            ]
          },
          "metadata": {
            "tags": []
          },
          "execution_count": 90
        }
      ]
    },
    {
      "cell_type": "markdown",
      "metadata": {
        "id": "1EvcFwFijAC9"
      },
      "source": [
        "###Model Tuning"
      ]
    },
    {
      "cell_type": "code",
      "metadata": {
        "id": "v-8juIlDsyhj"
      },
      "source": [
        "y = df[\"Approved\"] \n",
        "X = df.drop([\"Approved\"], axis=1)\n",
        "X_train, X_test, y_train, y_test = train_test_split(X, y, test_size = 0.30, random_state = 42)"
      ],
      "execution_count": null,
      "outputs": []
    },
    {
      "cell_type": "code",
      "metadata": {
        "id": "BikE2qUui_Yx"
      },
      "source": [
        "cart = DecisionTreeClassifier()"
      ],
      "execution_count": null,
      "outputs": []
    },
    {
      "cell_type": "code",
      "metadata": {
        "id": "hjaM94v7a1O5"
      },
      "source": [
        "cart_params = {\"max_depth\": [1,3,5,8,10],\n",
        "               \"min_samples_split\": [2,3,5,10]}"
      ],
      "execution_count": null,
      "outputs": []
    },
    {
      "cell_type": "code",
      "metadata": {
        "colab": {
          "base_uri": "https://localhost:8080/"
        },
        "id": "_S8sRZnVje6V",
        "outputId": "c117d89c-cfe1-4e68-a8fd-05341f503283"
      },
      "source": [
        "cart_cv_model = GridSearchCV(cart, cart_params, cv=10, n_jobs=-1, verbose=2).fit(X_train, y_train)"
      ],
      "execution_count": null,
      "outputs": [
        {
          "output_type": "stream",
          "text": [
            "[Parallel(n_jobs=-1)]: Using backend LokyBackend with 2 concurrent workers.\n"
          ],
          "name": "stderr"
        },
        {
          "output_type": "stream",
          "text": [
            "Fitting 10 folds for each of 20 candidates, totalling 200 fits\n"
          ],
          "name": "stdout"
        },
        {
          "output_type": "stream",
          "text": [
            "[Parallel(n_jobs=-1)]: Done 200 out of 200 | elapsed:    0.9s finished\n"
          ],
          "name": "stderr"
        }
      ]
    },
    {
      "cell_type": "code",
      "metadata": {
        "colab": {
          "base_uri": "https://localhost:8080/"
        },
        "id": "Dg4n5PWEj7yO",
        "outputId": "57766502-c49a-40d1-ab28-513df7e0c0a3"
      },
      "source": [
        "cart_cv_model.best_params_"
      ],
      "execution_count": null,
      "outputs": [
        {
          "output_type": "execute_result",
          "data": {
            "text/plain": [
              "{'max_depth': 1, 'min_samples_split': 2}"
            ]
          },
          "metadata": {
            "tags": []
          },
          "execution_count": 95
        }
      ]
    },
    {
      "cell_type": "code",
      "metadata": {
        "id": "iK01P-uzkDC9"
      },
      "source": [
        "#final model\n",
        "cart_tuned = DecisionTreeClassifier(max_depth = 1, min_samples_split = 2 ).fit(X_train, y_train)"
      ],
      "execution_count": 222,
      "outputs": []
    },
    {
      "cell_type": "code",
      "metadata": {
        "id": "N0iOtGntj-sD"
      },
      "source": [
        "y_pred = cart_tuned.predict(X_test)"
      ],
      "execution_count": 223,
      "outputs": []
    },
    {
      "cell_type": "code",
      "metadata": {
        "colab": {
          "base_uri": "https://localhost:8080/"
        },
        "id": "rC7rHQf9kZ-d",
        "outputId": "21ef8262-ec75-42de-fe5a-93534dc019b7"
      },
      "source": [
        "accuracy_score(y_test, y_pred)"
      ],
      "execution_count": 224,
      "outputs": [
        {
          "output_type": "execute_result",
          "data": {
            "text/plain": [
              "0.8405797101449275"
            ]
          },
          "metadata": {
            "tags": []
          },
          "execution_count": 224
        }
      ]
    },
    {
      "cell_type": "markdown",
      "metadata": {
        "id": "D5GlOKHA4w1T"
      },
      "source": [
        "# Random Forests"
      ]
    },
    {
      "cell_type": "markdown",
      "metadata": {
        "id": "sD14rVjT4wkH"
      },
      "source": [
        "###Model & Tahmin "
      ]
    },
    {
      "cell_type": "code",
      "metadata": {
        "id": "TMw545K94zKu"
      },
      "source": [
        "y = df[\"Approved\"] \n",
        "X = df.drop([\"Approved\"], axis=1)\n",
        "X_train, X_test, y_train, y_test = train_test_split(X, y, test_size = 0.30, random_state = 42)"
      ],
      "execution_count": null,
      "outputs": []
    },
    {
      "cell_type": "code",
      "metadata": {
        "colab": {
          "base_uri": "https://localhost:8080/"
        },
        "id": "bC-5qe41kgDF",
        "outputId": "8a8163d0-46ac-41a8-e927-22ab619d5c7f"
      },
      "source": [
        "rf_model = RandomForestClassifier().fit(X_train, y_train)\n",
        "rf_model"
      ],
      "execution_count": null,
      "outputs": [
        {
          "output_type": "execute_result",
          "data": {
            "text/plain": [
              "RandomForestClassifier(bootstrap=True, ccp_alpha=0.0, class_weight=None,\n",
              "                       criterion='gini', max_depth=None, max_features='auto',\n",
              "                       max_leaf_nodes=None, max_samples=None,\n",
              "                       min_impurity_decrease=0.0, min_impurity_split=None,\n",
              "                       min_samples_leaf=1, min_samples_split=2,\n",
              "                       min_weight_fraction_leaf=0.0, n_estimators=100,\n",
              "                       n_jobs=None, oob_score=False, random_state=None,\n",
              "                       verbose=0, warm_start=False)"
            ]
          },
          "metadata": {
            "tags": []
          },
          "execution_count": 100
        }
      ]
    },
    {
      "cell_type": "code",
      "metadata": {
        "id": "nD6dBXRfH6ai"
      },
      "source": [
        "y_pred = rf_model.predict(X_test)"
      ],
      "execution_count": null,
      "outputs": []
    },
    {
      "cell_type": "code",
      "metadata": {
        "colab": {
          "base_uri": "https://localhost:8080/"
        },
        "id": "ISZ6_2R4IAQw",
        "outputId": "bf6afa94-1749-4b3f-8f33-13d83e69b7dd"
      },
      "source": [
        "accuracy_score(y_test, y_pred)"
      ],
      "execution_count": null,
      "outputs": [
        {
          "output_type": "execute_result",
          "data": {
            "text/plain": [
              "0.855072463768116"
            ]
          },
          "metadata": {
            "tags": []
          },
          "execution_count": 102
        }
      ]
    },
    {
      "cell_type": "markdown",
      "metadata": {
        "id": "lIQ8a4hJIJBR"
      },
      "source": [
        "### Model Tuning"
      ]
    },
    {
      "cell_type": "code",
      "metadata": {
        "id": "TvbKz7b8s1Et"
      },
      "source": [
        "y = df[\"Approved\"] \n",
        "X = df.drop([\"Approved\"], axis=1)\n",
        "X_train, X_test, y_train, y_test = train_test_split(X, y, test_size = 0.30, random_state = 42)"
      ],
      "execution_count": null,
      "outputs": []
    },
    {
      "cell_type": "code",
      "metadata": {
        "id": "MW6WCl2JIGnH"
      },
      "source": [
        "rf = RandomForestClassifier()"
      ],
      "execution_count": null,
      "outputs": []
    },
    {
      "cell_type": "code",
      "metadata": {
        "id": "RaVKB51tIVcA"
      },
      "source": [
        "rf_params = {\"n_estimators\": [100,200,500],\n",
        "             \"max_features\" : [3,5,7,8],\n",
        "             \"min_samples_split\": [2,5,10,20],\n",
        "             }"
      ],
      "execution_count": null,
      "outputs": []
    },
    {
      "cell_type": "code",
      "metadata": {
        "colab": {
          "base_uri": "https://localhost:8080/"
        },
        "id": "Wx01KgIII6RK",
        "outputId": "37b3f734-72d0-4ad6-e09b-5c54db410af4"
      },
      "source": [
        "rf_cv_model = GridSearchCV(rf, rf_params,cv=10, n_jobs=-1, verbose=2).fit(X_train, y_train)"
      ],
      "execution_count": null,
      "outputs": [
        {
          "output_type": "stream",
          "text": [
            "Fitting 10 folds for each of 48 candidates, totalling 480 fits\n"
          ],
          "name": "stdout"
        },
        {
          "output_type": "stream",
          "text": [
            "[Parallel(n_jobs=-1)]: Using backend LokyBackend with 2 concurrent workers.\n",
            "[Parallel(n_jobs=-1)]: Done  37 tasks      | elapsed:   12.1s\n",
            "[Parallel(n_jobs=-1)]: Done 158 tasks      | elapsed:   55.0s\n",
            "[Parallel(n_jobs=-1)]: Done 361 tasks      | elapsed:  2.2min\n",
            "[Parallel(n_jobs=-1)]: Done 480 out of 480 | elapsed:  3.0min finished\n"
          ],
          "name": "stderr"
        }
      ]
    },
    {
      "cell_type": "code",
      "metadata": {
        "colab": {
          "base_uri": "https://localhost:8080/"
        },
        "id": "nWyGA-SEJma2",
        "outputId": "900dc3ad-9778-43c4-a576-a7565ab0348d"
      },
      "source": [
        "rf_cv_model.best_params_"
      ],
      "execution_count": null,
      "outputs": [
        {
          "output_type": "execute_result",
          "data": {
            "text/plain": [
              "{'max_features': 7, 'min_samples_split': 2, 'n_estimators': 500}"
            ]
          },
          "metadata": {
            "tags": []
          },
          "execution_count": 107
        }
      ]
    },
    {
      "cell_type": "code",
      "metadata": {
        "id": "-VJfhUeWJHuw"
      },
      "source": [
        "rf_tuned = RandomForestClassifier(max_features = 5, min_samples_split = 10, n_estimators = 500 ).fit(X_train, y_train)"
      ],
      "execution_count": 225,
      "outputs": []
    },
    {
      "cell_type": "code",
      "metadata": {
        "id": "vdj3tM6iJwOF"
      },
      "source": [
        "y_pred = rf_tuned.predict(X_test)"
      ],
      "execution_count": 226,
      "outputs": []
    },
    {
      "cell_type": "code",
      "metadata": {
        "colab": {
          "base_uri": "https://localhost:8080/"
        },
        "id": "YCME37B-J0qT",
        "outputId": "b6add4b7-b7eb-421a-e487-e7caa5bdc247"
      },
      "source": [
        "accuracy_score(y_test, y_pred)"
      ],
      "execution_count": 227,
      "outputs": [
        {
          "output_type": "execute_result",
          "data": {
            "text/plain": [
              "0.8888888888888888"
            ]
          },
          "metadata": {
            "tags": []
          },
          "execution_count": 227
        }
      ]
    },
    {
      "cell_type": "markdown",
      "metadata": {
        "id": "wrGuuJCnKYZV"
      },
      "source": [
        "### Değisken Önem Düzeyleri"
      ]
    },
    {
      "cell_type": "code",
      "metadata": {
        "colab": {
          "base_uri": "https://localhost:8080/",
          "height": 298
        },
        "id": "_b8UH3wIKHzY",
        "outputId": "993c5ab4-6eb7-4e97-8cd9-4b69bf491c75"
      },
      "source": [
        "feature_imp = pd.Series(rf_tuned.feature_importances_,\n",
        "                        index = X_train.columns).sort_values(ascending=False)\n",
        "sns.barplot(x = feature_imp, y = feature_imp.index)\n",
        "plt.xlabel(\"Değişken Önem Skorları\")\n",
        "plt.ylabel(\"Değişkenler\")\n",
        "plt.title(\"Değişken Önem Düzeyleri\")\n",
        "plt.show()"
      ],
      "execution_count": null,
      "outputs": [
        {
          "output_type": "display_data",
          "data": {
            "image/png": "[encoded data removed]",
            "text/plain": [
              "<Figure size 432x288 with 1 Axes>"
            ]
          },
          "metadata": {
            "tags": []
          }
        }
      ]
    },
    {
      "cell_type": "markdown",
      "metadata": {
        "id": "SrPjTT2SMvBT"
      },
      "source": [
        "# Gradient Boosting Machines (GBM)"
      ]
    },
    {
      "cell_type": "markdown",
      "metadata": {
        "id": "a5_ERwkmMye0"
      },
      "source": [
        "### Model & Tahmin"
      ]
    },
    {
      "cell_type": "code",
      "metadata": {
        "id": "sCjHd9OIM-7p"
      },
      "source": [
        "y = df[\"Approved\"] \n",
        "X = df.drop([\"Approved\"], axis=1)\n",
        "X_train, X_test, y_train, y_test = train_test_split(X, y, test_size = 0.30, random_state = 42)"
      ],
      "execution_count": null,
      "outputs": []
    },
    {
      "cell_type": "code",
      "metadata": {
        "colab": {
          "base_uri": "https://localhost:8080/"
        },
        "id": "q2_FTxC0M-7y",
        "outputId": "9c6117c6-06b6-4872-f112-1ca1091565fb"
      },
      "source": [
        "gbm_model = GradientBoostingClassifier().fit(X_train, y_train)\n",
        "gbm_model"
      ],
      "execution_count": null,
      "outputs": [
        {
          "output_type": "execute_result",
          "data": {
            "text/plain": [
              "GradientBoostingClassifier(ccp_alpha=0.0, criterion='friedman_mse', init=None,\n",
              "                           learning_rate=0.1, loss='deviance', max_depth=3,\n",
              "                           max_features=None, max_leaf_nodes=None,\n",
              "                           min_impurity_decrease=0.0, min_impurity_split=None,\n",
              "                           min_samples_leaf=1, min_samples_split=2,\n",
              "                           min_weight_fraction_leaf=0.0, n_estimators=100,\n",
              "                           n_iter_no_change=None, presort='deprecated',\n",
              "                           random_state=None, subsample=1.0, tol=0.0001,\n",
              "                           validation_fraction=0.1, verbose=0,\n",
              "                           warm_start=False)"
            ]
          },
          "metadata": {
            "tags": []
          },
          "execution_count": 113
        }
      ]
    },
    {
      "cell_type": "code",
      "metadata": {
        "id": "avfHYFTuM-7z"
      },
      "source": [
        "y_pred = gbm_model.predict(X_test)"
      ],
      "execution_count": null,
      "outputs": []
    },
    {
      "cell_type": "code",
      "metadata": {
        "colab": {
          "base_uri": "https://localhost:8080/"
        },
        "id": "-f2uArOPM-7z",
        "outputId": "31a82592-5a2a-4148-fce1-e0cefa45e411"
      },
      "source": [
        "accuracy_score(y_test, y_pred)"
      ],
      "execution_count": null,
      "outputs": [
        {
          "output_type": "execute_result",
          "data": {
            "text/plain": [
              "0.8695652173913043"
            ]
          },
          "metadata": {
            "tags": []
          },
          "execution_count": 115
        }
      ]
    },
    {
      "cell_type": "markdown",
      "metadata": {
        "id": "Wfkek0ACM-70"
      },
      "source": [
        "### Model Tuning"
      ]
    },
    {
      "cell_type": "code",
      "metadata": {
        "colab": {
          "background_save": true
        },
        "id": "kW1Pbmw6s25G"
      },
      "source": [
        "y = df[\"Approved\"] \n",
        "X = df.drop([\"Approved\"], axis=1)\n",
        "X_train, X_test, y_train, y_test = train_test_split(X, y, test_size = 0.30, random_state = 42)"
      ],
      "execution_count": null,
      "outputs": []
    },
    {
      "cell_type": "code",
      "metadata": {
        "colab": {
          "background_save": true
        },
        "id": "Jio-ZD4_OVmL"
      },
      "source": [
        "gbm = GradientBoostingClassifier()"
      ],
      "execution_count": null,
      "outputs": []
    },
    {
      "cell_type": "code",
      "metadata": {
        "colab": {
          "background_save": true
        },
        "id": "c1BDO_RIOm98"
      },
      "source": [
        "gbm_params = {\"learning_rate\": [0.1,0.01,0.001,0.5],\n",
        "              \"max_depth\": [2,3,5,8],\n",
        "              \"n_estimators\": [100,300,500,1000]}"
      ],
      "execution_count": null,
      "outputs": []
    },
    {
      "cell_type": "code",
      "metadata": {
        "colab": {
          "base_uri": "https://localhost:8080/"
        },
        "id": "tdpXiDCyPQiv",
        "outputId": "bfba6de7-4d36-4f31-f52a-baa9a2b000c7"
      },
      "source": [
        "gbm_cv_model = GridSearchCV(gbm, gbm_params, cv=10, n_jobs=-1, verbose=2).fit(X_train, y_train)"
      ],
      "execution_count": null,
      "outputs": [
        {
          "output_type": "stream",
          "text": [
            "Fitting 10 folds for each of 64 candidates, totalling 640 fits\n"
          ],
          "name": "stdout"
        },
        {
          "output_type": "stream",
          "text": [
            "[Parallel(n_jobs=-1)]: Using backend LokyBackend with 2 concurrent workers.\n",
            "[Parallel(n_jobs=-1)]: Done  53 tasks      | elapsed:   14.3s\n",
            "[Parallel(n_jobs=-1)]: Done 174 tasks      | elapsed:  1.0min\n",
            "[Parallel(n_jobs=-1)]: Done 377 tasks      | elapsed:  3.1min\n",
            "[Parallel(n_jobs=-1)]: Done 640 out of 640 | elapsed:  5.1min finished\n"
          ],
          "name": "stderr"
        }
      ]
    },
    {
      "cell_type": "code",
      "metadata": {
        "id": "H3CdF14IQCHk"
      },
      "source": [
        "gbm_cv_model.best_params_"
      ],
      "execution_count": null,
      "outputs": []
    },
    {
      "cell_type": "code",
      "metadata": {
        "id": "tO5bjjPwQFRa"
      },
      "source": [
        "gbm_tuned = GradientBoostingClassifier(learning_rate= 0.5, max_depth = 5, n_estimators= 100 ).fit(X_train, y_train)"
      ],
      "execution_count": 228,
      "outputs": []
    },
    {
      "cell_type": "code",
      "metadata": {
        "id": "Zj5JewagSWjm"
      },
      "source": [
        "y_pred = gbm_tuned.predict(X_test)"
      ],
      "execution_count": 229,
      "outputs": []
    },
    {
      "cell_type": "code",
      "metadata": {
        "id": "LBvKePLwShVo",
        "colab": {
          "base_uri": "https://localhost:8080/"
        },
        "outputId": "edaa91f6-d633-47ab-b8bc-38723ead635b"
      },
      "source": [
        "accuracy_score(y_test, y_pred)"
      ],
      "execution_count": 230,
      "outputs": [
        {
          "output_type": "execute_result",
          "data": {
            "text/plain": [
              "0.855072463768116"
            ]
          },
          "metadata": {
            "tags": []
          },
          "execution_count": 230
        }
      ]
    },
    {
      "cell_type": "markdown",
      "metadata": {
        "id": "6bbzNCkkS7gj"
      },
      "source": [
        "### Değisken Önem Düzeyleri"
      ]
    },
    {
      "cell_type": "code",
      "metadata": {
        "id": "SWCgOJcBS7gt",
        "colab": {
          "base_uri": "https://localhost:8080/",
          "height": 298
        },
        "outputId": "fa233767-4cb4-4439-bb3b-a4ac4ac9c2bc"
      },
      "source": [
        "feature_imp = pd.Series(gbm_tuned.feature_importances_,\n",
        "                        index = X_train.columns).sort_values(ascending=False)\n",
        "sns.barplot(x = feature_imp, y = feature_imp.index)\n",
        "plt.xlabel(\"Değişken Önem Skorları\")\n",
        "plt.ylabel(\"Değişkenler\")\n",
        "plt.title(\"Değişken Önem Düzeyleri\")\n",
        "plt.show()"
      ],
      "execution_count": null,
      "outputs": [
        {
          "output_type": "display_data",
          "data": {
            "image/png": "[encoded data removed]",
            "text/plain": [
              "<Figure size 432x288 with 1 Axes>"
            ]
          },
          "metadata": {
            "tags": []
          }
        }
      ]
    },
    {
      "cell_type": "markdown",
      "metadata": {
        "id": "KZKRVNPuu2iD"
      },
      "source": [
        "# XGBoost"
      ]
    },
    {
      "cell_type": "markdown",
      "metadata": {
        "id": "n0VrU5M5u2V3"
      },
      "source": [
        "### Model & Tahmin"
      ]
    },
    {
      "cell_type": "code",
      "metadata": {
        "id": "hV89z2ZuS9lA"
      },
      "source": [
        "y = df[\"Approved\"] \n",
        "X = df.drop([\"Approved\"], axis=1)\n",
        "X_train, X_test, y_train, y_test = train_test_split(X, y, test_size = 0.30, random_state = 42)"
      ],
      "execution_count": null,
      "outputs": []
    },
    {
      "cell_type": "code",
      "metadata": {
        "id": "jZBiyG7Lu97c",
        "colab": {
          "base_uri": "https://localhost:8080/"
        },
        "outputId": "0e58751e-a71e-486c-c588-c7bf3a6011c3"
      },
      "source": [
        "xgb_model = XGBClassifier().fit(X_train, y_train)\n",
        "xgb_model"
      ],
      "execution_count": null,
      "outputs": [
        {
          "output_type": "execute_result",
          "data": {
            "text/plain": [
              "XGBClassifier(base_score=0.5, booster='gbtree', colsample_bylevel=1,\n",
              "              colsample_bynode=1, colsample_bytree=1, gamma=0,\n",
              "              learning_rate=0.1, max_delta_step=0, max_depth=3,\n",
              "              min_child_weight=1, missing=None, n_estimators=100, n_jobs=1,\n",
              "              nthread=None, objective='binary:logistic', random_state=0,\n",
              "              reg_alpha=0, reg_lambda=1, scale_pos_weight=1, seed=None,\n",
              "              silent=None, subsample=1, verbosity=1)"
            ]
          },
          "metadata": {
            "tags": []
          },
          "execution_count": 0
        }
      ]
    },
    {
      "cell_type": "code",
      "metadata": {
        "id": "Z4g7PeXju9zV"
      },
      "source": [
        "y_pred = xgb_model.predict(X_test)"
      ],
      "execution_count": 231,
      "outputs": []
    },
    {
      "cell_type": "code",
      "metadata": {
        "id": "QIgfI-PpvigF",
        "colab": {
          "base_uri": "https://localhost:8080/"
        },
        "outputId": "d9bb0cae-ea5c-4ab7-ec24-9c228c53cc44"
      },
      "source": [
        "accuracy_score(y_test, y_pred)"
      ],
      "execution_count": 232,
      "outputs": [
        {
          "output_type": "execute_result",
          "data": {
            "text/plain": [
              "0.8357487922705314"
            ]
          },
          "metadata": {
            "tags": []
          },
          "execution_count": 232
        }
      ]
    },
    {
      "cell_type": "markdown",
      "metadata": {
        "id": "nwlQtyCIv1kk"
      },
      "source": [
        "###Model Tuning"
      ]
    },
    {
      "cell_type": "code",
      "metadata": {
        "id": "GTJe-5ccv5Um"
      },
      "source": [
        "y = df[\"Approved\"] \n",
        "X = df.drop([\"Approved\"], axis=1)\n",
        "X_train, X_test, y_train, y_test = train_test_split(X, y, test_size = 0.30, random_state = 42)"
      ],
      "execution_count": null,
      "outputs": []
    },
    {
      "cell_type": "code",
      "metadata": {
        "id": "0Tw7ybGCwCFu"
      },
      "source": [
        "xgb = XGBClassifier()"
      ],
      "execution_count": null,
      "outputs": []
    },
    {
      "cell_type": "code",
      "metadata": {
        "id": "KyNEr9PZwFEE"
      },
      "source": [
        "xgb_params = {\"n_estimators\":[100,500,1000],\n",
        "              \"subsample\":[0.6,0.8,1],\n",
        "              \"max_dept\": [3,5,7],\n",
        "              \"learning_rate\": [0.1,0.001,0.0001]}"
      ],
      "execution_count": null,
      "outputs": []
    },
    {
      "cell_type": "code",
      "metadata": {
        "id": "DKKeJKx63UeD",
        "colab": {
          "base_uri": "https://localhost:8080/"
        },
        "outputId": "420db42c-4b29-428a-e8b9-9237db774689"
      },
      "source": [
        "xgb_cv_model = GridSearchCV(xgb, xgb_params, cv=10, n_jobs=-1, verbose=2).fit(X_train, y_train)"
      ],
      "execution_count": null,
      "outputs": [
        {
          "output_type": "stream",
          "text": [
            "Fitting 10 folds for each of 81 candidates, totalling 810 fits\n"
          ],
          "name": "stdout"
        },
        {
          "output_type": "stream",
          "text": [
            "[Parallel(n_jobs=-1)]: Using backend LokyBackend with 2 concurrent workers.\n",
            "[Parallel(n_jobs=-1)]: Done  70 tasks      | elapsed:    8.3s\n",
            "[Parallel(n_jobs=-1)]: Done 296 tasks      | elapsed:   39.6s\n",
            "[Parallel(n_jobs=-1)]: Done 641 tasks      | elapsed:  1.6min\n",
            "[Parallel(n_jobs=-1)]: Done 810 out of 810 | elapsed:  2.0min finished\n"
          ],
          "name": "stderr"
        }
      ]
    },
    {
      "cell_type": "code",
      "metadata": {
        "id": "b8JwoM-V3pDL",
        "colab": {
          "base_uri": "https://localhost:8080/"
        },
        "outputId": "dbde53ca-e1e1-4b45-ee82-eee1be95489e"
      },
      "source": [
        "xgb_cv_model.best_params_"
      ],
      "execution_count": 140,
      "outputs": [
        {
          "output_type": "execute_result",
          "data": {
            "text/plain": [
              "{'learning_rate': 0.1, 'max_dept': 3, 'n_estimators': 1000, 'subsample': 1}"
            ]
          },
          "metadata": {
            "tags": []
          },
          "execution_count": 140
        }
      ]
    },
    {
      "cell_type": "code",
      "metadata": {
        "id": "M82TXwIq3s9c"
      },
      "source": [
        "xgb_tuned = XGBClassifier(learning_rate= 0.001, max_dept= 7, n_estimators= 500, subsample= 0.6).fit(X_train, y_train)"
      ],
      "execution_count": 233,
      "outputs": []
    },
    {
      "cell_type": "code",
      "metadata": {
        "id": "5W_U8E-Z4SIL"
      },
      "source": [
        "y_pred = xgb_tuned.predict(X_test)"
      ],
      "execution_count": 234,
      "outputs": []
    },
    {
      "cell_type": "code",
      "metadata": {
        "id": "jGyFCjfD4XSA",
        "colab": {
          "base_uri": "https://localhost:8080/"
        },
        "outputId": "827a7a7d-163a-4cb4-85c6-1def06685d85"
      },
      "source": [
        "accuracy_score(y_test, y_pred)"
      ],
      "execution_count": 235,
      "outputs": [
        {
          "output_type": "execute_result",
          "data": {
            "text/plain": [
              "0.8454106280193237"
            ]
          },
          "metadata": {
            "tags": []
          },
          "execution_count": 235
        }
      ]
    },
    {
      "cell_type": "markdown",
      "metadata": {
        "id": "g9y8pRVn6NBk"
      },
      "source": [
        "### Değisken Önem Düzeyleri"
      ]
    },
    {
      "cell_type": "code",
      "metadata": {
        "id": "et6HNtpH6NBn",
        "colab": {
          "base_uri": "https://localhost:8080/",
          "height": 298
        },
        "outputId": "73212c08-7735-4da2-e8e2-e9b702ce5ec7"
      },
      "source": [
        "feature_imp = pd.Series(xgb_tuned.feature_importances_,\n",
        "                        index = X_train.columns).sort_values(ascending=False)\n",
        "sns.barplot(x = feature_imp, y = feature_imp.index)\n",
        "plt.xlabel(\"Değişken Önem Skorları\")\n",
        "plt.ylabel(\"Değişkenler\")\n",
        "plt.title(\"Değişken Önem Düzeyleri\")\n",
        "plt.show()"
      ],
      "execution_count": 144,
      "outputs": [
        {
          "output_type": "display_data",
          "data": {
            "image/png": "[encoded data removed]",
            "text/plain": [
              "<Figure size 432x288 with 1 Axes>"
            ]
          },
          "metadata": {
            "tags": [],
            "needs_background": "light"
          }
        }
      ]
    },
    {
      "cell_type": "markdown",
      "metadata": {
        "id": "effgz4Ib6ga7"
      },
      "source": [
        "# Light GBM"
      ]
    },
    {
      "cell_type": "markdown",
      "metadata": {
        "id": "ZRomnm-B6f4z"
      },
      "source": [
        "### Model & Tahmin\n",
        "\n"
      ]
    },
    {
      "cell_type": "code",
      "metadata": {
        "id": "5jtE1HP16Pyt"
      },
      "source": [
        "y = df[\"Approved\"] \n",
        "X = df.drop([\"Approved\"], axis=1)\n",
        "X_train, X_test, y_train, y_test = train_test_split(X, y, test_size = 0.30, random_state = 42)"
      ],
      "execution_count": 145,
      "outputs": []
    },
    {
      "cell_type": "code",
      "metadata": {
        "id": "j7p3CurV6tW1",
        "colab": {
          "base_uri": "https://localhost:8080/"
        },
        "outputId": "c5529a55-a3ff-4be2-8eb7-c5ee0c2f9236"
      },
      "source": [
        "lgbm_model = LGBMClassifier().fit(X_train, y_train)\n",
        "lgbm_model"
      ],
      "execution_count": 146,
      "outputs": [
        {
          "output_type": "execute_result",
          "data": {
            "text/plain": [
              "LGBMClassifier(boosting_type='gbdt', class_weight=None, colsample_bytree=1.0,\n",
              "               importance_type='split', learning_rate=0.1, max_depth=-1,\n",
              "               min_child_samples=20, min_child_weight=0.001, min_split_gain=0.0,\n",
              "               n_estimators=100, n_jobs=-1, num_leaves=31, objective=None,\n",
              "               random_state=None, reg_alpha=0.0, reg_lambda=0.0, silent=True,\n",
              "               subsample=1.0, subsample_for_bin=200000, subsample_freq=0)"
            ]
          },
          "metadata": {
            "tags": []
          },
          "execution_count": 146
        }
      ]
    },
    {
      "cell_type": "code",
      "metadata": {
        "id": "FrWjWWqF7OMm",
        "colab": {
          "base_uri": "https://localhost:8080/"
        },
        "outputId": "c7745afc-4a19-447d-a403-6104f1220084"
      },
      "source": [
        "y_pred = lgbm_model.predict(X_test)\n",
        "accuracy_score(y_test, y_pred)"
      ],
      "execution_count": 147,
      "outputs": [
        {
          "output_type": "execute_result",
          "data": {
            "text/plain": [
              "0.8405797101449275"
            ]
          },
          "metadata": {
            "tags": []
          },
          "execution_count": 147
        }
      ]
    },
    {
      "cell_type": "markdown",
      "metadata": {
        "id": "6lyqw0YJ7fDS"
      },
      "source": [
        "### Model Tuning"
      ]
    },
    {
      "cell_type": "code",
      "metadata": {
        "id": "YCXzVWaL7rh3"
      },
      "source": [
        "y = df[\"Approved\"] \n",
        "X = df.drop([\"Approved\"], axis=1)\n",
        "X_train, X_test, y_train, y_test = train_test_split(X, y, test_size = 0.30, random_state = 42)"
      ],
      "execution_count": 148,
      "outputs": []
    },
    {
      "cell_type": "code",
      "metadata": {
        "id": "EmUo9g_57cHx"
      },
      "source": [
        "lgbm = LGBMClassifier()"
      ],
      "execution_count": 149,
      "outputs": []
    },
    {
      "cell_type": "code",
      "metadata": {
        "id": "zLIq-9Tx7xTl"
      },
      "source": [
        "lgbm_params = {\"learning_rate\": [0.001,0.01,0.1],\n",
        "               \"n_estimators\":[200,500,100],\n",
        "               \"max_depth\":[1,5,35,8]}"
      ],
      "execution_count": 150,
      "outputs": []
    },
    {
      "cell_type": "code",
      "metadata": {
        "id": "9kqdRa7m8VMa",
        "colab": {
          "base_uri": "https://localhost:8080/"
        },
        "outputId": "74f796ba-b15e-4306-a728-e3decf2f7c2e"
      },
      "source": [
        "lgbm_cv_model = GridSearchCV(lgbm, lgbm_params, cv=10, n_jobs=-1, verbose=2).fit(X_train, y_train)"
      ],
      "execution_count": 151,
      "outputs": [
        {
          "output_type": "stream",
          "text": [
            "Fitting 10 folds for each of 36 candidates, totalling 360 fits\n"
          ],
          "name": "stdout"
        },
        {
          "output_type": "stream",
          "text": [
            "[Parallel(n_jobs=-1)]: Using backend LokyBackend with 2 concurrent workers.\n",
            "[Parallel(n_jobs=-1)]: Done  80 tasks      | elapsed:    5.6s\n",
            "[Parallel(n_jobs=-1)]: Done 360 out of 360 | elapsed:   21.8s finished\n"
          ],
          "name": "stderr"
        }
      ]
    },
    {
      "cell_type": "code",
      "metadata": {
        "id": "e7kie7CT8rKm",
        "colab": {
          "base_uri": "https://localhost:8080/"
        },
        "outputId": "49e996d8-1857-4e9b-be43-bab687abe1cd"
      },
      "source": [
        "lgbm_cv_model.best_params_"
      ],
      "execution_count": 152,
      "outputs": [
        {
          "output_type": "execute_result",
          "data": {
            "text/plain": [
              "{'learning_rate': 0.001, 'max_depth': 1, 'n_estimators': 500}"
            ]
          },
          "metadata": {
            "tags": []
          },
          "execution_count": 152
        }
      ]
    },
    {
      "cell_type": "code",
      "metadata": {
        "id": "_jG_f2DP8v4G"
      },
      "source": [
        "lgbm_tuned = LGBMClassifier(learning_rate= 0.001, max_depth= 1, n_estimators= 500).fit(X_train, y_train)"
      ],
      "execution_count": 236,
      "outputs": []
    },
    {
      "cell_type": "code",
      "metadata": {
        "id": "uMW8YsVc8--e"
      },
      "source": [
        "y_pred = lgbm_tuned.predict(X_test)"
      ],
      "execution_count": 237,
      "outputs": []
    },
    {
      "cell_type": "code",
      "metadata": {
        "id": "w1ibDdz69HNY",
        "colab": {
          "base_uri": "https://localhost:8080/"
        },
        "outputId": "9ac5cbe6-2900-4203-db02-7419405c4360"
      },
      "source": [
        "accuracy_score(y_test, y_pred)"
      ],
      "execution_count": 238,
      "outputs": [
        {
          "output_type": "execute_result",
          "data": {
            "text/plain": [
              "0.8405797101449275"
            ]
          },
          "metadata": {
            "tags": []
          },
          "execution_count": 238
        }
      ]
    },
    {
      "cell_type": "markdown",
      "metadata": {
        "id": "4OsF9FbC-Mhc"
      },
      "source": [
        "### Değisken Önem Düzeyleri"
      ]
    },
    {
      "cell_type": "code",
      "metadata": {
        "id": "f0-ozwaA-Mhd",
        "colab": {
          "base_uri": "https://localhost:8080/",
          "height": 298
        },
        "outputId": "9685e291-b238-461a-95d6-5eec7e02ef2d"
      },
      "source": [
        "feature_imp = pd.Series(lgbm_tuned.feature_importances_,\n",
        "                        index = X_train.columns).sort_values(ascending=False)\n",
        "sns.barplot(x = feature_imp, y = feature_imp.index)\n",
        "plt.xlabel(\"Değişken Önem Skorları\")\n",
        "plt.ylabel(\"Değişkenler\")\n",
        "plt.title(\"Değişken Önem Düzeyleri\")\n",
        "plt.show()"
      ],
      "execution_count": 156,
      "outputs": [
        {
          "output_type": "display_data",
          "data": {
            "image/png": "[encoded data removed]",
            "text/plain": [
              "<Figure size 432x288 with 1 Axes>"
            ]
          },
          "metadata": {
            "tags": [],
            "needs_background": "light"
          }
        }
      ]
    },
    {
      "cell_type": "markdown",
      "metadata": {
        "id": "8Fxq5n5o-pWF"
      },
      "source": [
        "# CatBoost"
      ]
    },
    {
      "cell_type": "markdown",
      "metadata": {
        "id": "4aeXpiXX-pLo"
      },
      "source": [
        "### Model & Tahmin"
      ]
    },
    {
      "cell_type": "code",
      "metadata": {
        "id": "EZxby1ZZ-5Sf"
      },
      "source": [
        "y = df[\"Approved\"] \n",
        "X = df.drop([\"Approved\"], axis=1)\n",
        "X_train, X_test, y_train, y_test = train_test_split(X, y, test_size = 0.30, random_state = 42)"
      ],
      "execution_count": 157,
      "outputs": []
    },
    {
      "cell_type": "code",
      "metadata": {
        "id": "0719gC9F-5Sf",
        "colab": {
          "base_uri": "https://localhost:8080/"
        },
        "outputId": "4a0a2a22-bd2e-4315-f569-91e77338e9f0"
      },
      "source": [
        "catb_model = CatBoostClassifier().fit(X_train, y_train, verbose=False)\n",
        "catb_model"
      ],
      "execution_count": 158,
      "outputs": [
        {
          "output_type": "execute_result",
          "data": {
            "text/plain": [
              "<catboost.core.CatBoostClassifier at 0x7f743d6296d0>"
            ]
          },
          "metadata": {
            "tags": []
          },
          "execution_count": 158
        }
      ]
    },
    {
      "cell_type": "code",
      "metadata": {
        "id": "GDazNmzm-5Sg",
        "colab": {
          "base_uri": "https://localhost:8080/"
        },
        "outputId": "b3d5a754-1a55-4722-da66-70caa567af21"
      },
      "source": [
        "y_pred = catb_model.predict(X_test)\n",
        "accuracy_score(y_test, y_pred)"
      ],
      "execution_count": 159,
      "outputs": [
        {
          "output_type": "execute_result",
          "data": {
            "text/plain": [
              "0.8743961352657005"
            ]
          },
          "metadata": {
            "tags": []
          },
          "execution_count": 159
        }
      ]
    },
    {
      "cell_type": "markdown",
      "metadata": {
        "id": "nxTB9Kdk_eAH"
      },
      "source": [
        "### Model Tuning"
      ]
    },
    {
      "cell_type": "code",
      "metadata": {
        "id": "tiq1UmOG_eAS"
      },
      "source": [
        "y = df[\"Approved\"] \n",
        "X = df.drop([\"Approved\"], axis=1)\n",
        "X_train, X_test, y_train, y_test = train_test_split(X, y, test_size = 0.30, random_state = 42)"
      ],
      "execution_count": 160,
      "outputs": []
    },
    {
      "cell_type": "code",
      "metadata": {
        "id": "KxC3Ag-c_eAS"
      },
      "source": [
        "catb = CatBoostClassifier()"
      ],
      "execution_count": 161,
      "outputs": []
    },
    {
      "cell_type": "code",
      "metadata": {
        "id": "MSzJEXGW_eAT"
      },
      "source": [
        "catb_params = {\"iterations\": [200,500,100],\n",
        "               \"learning_rate\":[0.1,0.01,0.03],\n",
        "               \"depth\":[4,6,8]}"
      ],
      "execution_count": 162,
      "outputs": []
    },
    {
      "cell_type": "code",
      "metadata": {
        "id": "cBC1UxJ9_eAT"
      },
      "source": [
        "catb_cv_model = GridSearchCV(catb, catb_params, cv=10, n_jobs=-1, verbose=2).fit(X_train, y_train)"
      ],
      "execution_count": null,
      "outputs": []
    },
    {
      "cell_type": "code",
      "metadata": {
        "id": "Bp_Cu4cs_eAT",
        "colab": {
          "base_uri": "https://localhost:8080/"
        },
        "outputId": "5aec6fa7-83f5-4df9-9588-1c110e871bd9"
      },
      "source": [
        "catb_cv_model.best_params_"
      ],
      "execution_count": 164,
      "outputs": [
        {
          "output_type": "execute_result",
          "data": {
            "text/plain": [
              "{'depth': 8, 'iterations': 200, 'learning_rate': 0.03}"
            ]
          },
          "metadata": {
            "tags": []
          },
          "execution_count": 164
        }
      ]
    },
    {
      "cell_type": "code",
      "metadata": {
        "id": "uCMslsef_eAU"
      },
      "source": [
        "catb_tuned = CatBoostClassifier(iterations= 200, learning_rate= 0.03, depth= 8).fit(X_train, y_train)"
      ],
      "execution_count": null,
      "outputs": []
    },
    {
      "cell_type": "code",
      "metadata": {
        "id": "8gulkxMf_eAU"
      },
      "source": [
        "y_pred = catb_tuned.predict(X_test)"
      ],
      "execution_count": 240,
      "outputs": []
    },
    {
      "cell_type": "code",
      "metadata": {
        "id": "dz98erlg_eAV",
        "colab": {
          "base_uri": "https://localhost:8080/"
        },
        "outputId": "83493349-29b8-4d3e-e6cd-f42983886a7e"
      },
      "source": [
        "accuracy_score(y_test, y_pred)"
      ],
      "execution_count": 241,
      "outputs": [
        {
          "output_type": "execute_result",
          "data": {
            "text/plain": [
              "0.8695652173913043"
            ]
          },
          "metadata": {
            "tags": []
          },
          "execution_count": 241
        }
      ]
    },
    {
      "cell_type": "markdown",
      "metadata": {
        "id": "2E9drHRL_eAV"
      },
      "source": [
        "### Değisken Önem Düzeyleri"
      ]
    },
    {
      "cell_type": "code",
      "metadata": {
        "id": "wwCjRUSZ_eAV",
        "colab": {
          "base_uri": "https://localhost:8080/",
          "height": 298
        },
        "outputId": "5efb9277-fe97-4ec3-af5f-c4165821683a"
      },
      "source": [
        "feature_imp = pd.Series(catb_tuned.feature_importances_,\n",
        "                        index = X_train.columns).sort_values(ascending=False)\n",
        "sns.barplot(x = feature_imp, y = feature_imp.index)\n",
        "plt.xlabel(\"Değişken Önem Skorları\")\n",
        "plt.ylabel(\"Değişkenler\")\n",
        "plt.title(\"Değişken Önem Düzeyleri\")\n",
        "plt.show()"
      ],
      "execution_count": 168,
      "outputs": [
        {
          "output_type": "display_data",
          "data": {
            "image/png": "[encoded data removed]",
            "text/plain": [
              "<Figure size 432x288 with 1 Axes>"
            ]
          },
          "metadata": {
            "tags": [],
            "needs_background": "light"
          }
        }
      ]
    },
    {
      "cell_type": "markdown",
      "metadata": {
        "id": "enk2dKeGB1e2"
      },
      "source": [
        "## MODEL SONUÇLARININ KARŞILAŞTIRILMASI"
      ]
    },
    {
      "cell_type": "code",
      "metadata": {
        "id": "pAVAI2HfB5Si"
      },
      "source": [
        "modeller = [knn_tuned,log_model,svm_tuned,xgb_tuned,mlpc_tuned,cart_tuned, rf_tuned, gbm_tuned, catb_tuned, lgbm_tuned, xgb_tuned]\n",
        "\n",
        "sonuc = []\n",
        "sonuclar = pd.DataFrame(columns = [\"Modeller\", \"Accuracy\"])     \n",
        "\n",
        "for model in modeller:\n",
        "  isimler = model.__class__.__name__\n",
        "  y_pred = model.predict(X_test)\n",
        "  dogruluk = accuracy_score(y_test, y_pred)\n",
        "  sonuc = pd.DataFrame([[isimler, dogruluk*100]], columns = [\"Modeller\", \"Accuracy\"])\n",
        "  sonuclar = sonuclar.append(sonuc)"
      ],
      "execution_count": 242,
      "outputs": []
    },
    {
      "cell_type": "code",
      "metadata": {
        "id": "67NJo_aZD533",
        "colab": {
          "base_uri": "https://localhost:8080/",
          "height": 295
        },
        "outputId": "3051d3b8-0b42-4fbc-b975-c121338bf65b"
      },
      "source": [
        "sns.barplot(x='Accuracy', y='Modeller', data=sonuclar, color='r')\n",
        "plt.xlabel('Accuracy %')\n",
        "plt.title('Modellerin Doğruluk Oranları');"
      ],
      "execution_count": 243,
      "outputs": [
        {
          "output_type": "display_data",
          "data": {
            "image/png": "[encoded data removed]",
            "text/plain": [
              "<Figure size 432x288 with 1 Axes>"
            ]
          },
          "metadata": {
            "tags": [],
            "needs_background": "light"
          }
        }
      ]
    },
    {
      "cell_type": "code",
      "metadata": {
        "colab": {
          "base_uri": "https://localhost:8080/",
          "height": 373
        },
        "id": "owRV0t98HWkb",
        "outputId": "f14ac814-c2e5-4ecb-dde0-7d65258bebca"
      },
      "source": [
        "sonuclar"
      ],
      "execution_count": 244,
      "outputs": [
        {
          "output_type": "execute_result",
          "data": {
            "text/html": [
              "<div>\n",
              "<style scoped>\n",
              "    .dataframe tbody tr th:only-of-type {\n",
              "        vertical-align: middle;\n",
              "    }\n",
              "\n",
              "    .dataframe tbody tr th {\n",
              "        vertical-align: top;\n",
              "    }\n",
              "\n",
              "    .dataframe thead th {\n",
              "        text-align: right;\n",
              "    }\n",
              "</style>\n",
              "<table border=\"1\" class=\"dataframe\">\n",
              "  <thead>\n",
              "    <tr style=\"text-align: right;\">\n",
              "      <th></th>\n",
              "      <th>Modeller</th>\n",
              "      <th>Accuracy</th>\n",
              "    </tr>\n",
              "  </thead>\n",
              "  <tbody>\n",
              "    <tr>\n",
              "      <th>0</th>\n",
              "      <td>KNeighborsClassifier</td>\n",
              "      <td>67.149758</td>\n",
              "    </tr>\n",
              "    <tr>\n",
              "      <th>0</th>\n",
              "      <td>LogisticRegression</td>\n",
              "      <td>84.541063</td>\n",
              "    </tr>\n",
              "    <tr>\n",
              "      <th>0</th>\n",
              "      <td>SVC</td>\n",
              "      <td>84.057971</td>\n",
              "    </tr>\n",
              "    <tr>\n",
              "      <th>0</th>\n",
              "      <td>XGBClassifier</td>\n",
              "      <td>84.541063</td>\n",
              "    </tr>\n",
              "    <tr>\n",
              "      <th>0</th>\n",
              "      <td>MLPClassifier</td>\n",
              "      <td>83.091787</td>\n",
              "    </tr>\n",
              "    <tr>\n",
              "      <th>0</th>\n",
              "      <td>DecisionTreeClassifier</td>\n",
              "      <td>84.057971</td>\n",
              "    </tr>\n",
              "    <tr>\n",
              "      <th>0</th>\n",
              "      <td>RandomForestClassifier</td>\n",
              "      <td>88.888889</td>\n",
              "    </tr>\n",
              "    <tr>\n",
              "      <th>0</th>\n",
              "      <td>GradientBoostingClassifier</td>\n",
              "      <td>85.507246</td>\n",
              "    </tr>\n",
              "    <tr>\n",
              "      <th>0</th>\n",
              "      <td>CatBoostClassifier</td>\n",
              "      <td>86.956522</td>\n",
              "    </tr>\n",
              "    <tr>\n",
              "      <th>0</th>\n",
              "      <td>LGBMClassifier</td>\n",
              "      <td>84.057971</td>\n",
              "    </tr>\n",
              "    <tr>\n",
              "      <th>0</th>\n",
              "      <td>XGBClassifier</td>\n",
              "      <td>84.541063</td>\n",
              "    </tr>\n",
              "  </tbody>\n",
              "</table>\n",
              "</div>"
            ],
            "text/plain": [
              "                     Modeller   Accuracy\n",
              "0        KNeighborsClassifier  67.149758\n",
              "0          LogisticRegression  84.541063\n",
              "0                         SVC  84.057971\n",
              "0               XGBClassifier  84.541063\n",
              "0               MLPClassifier  83.091787\n",
              "0      DecisionTreeClassifier  84.057971\n",
              "0      RandomForestClassifier  88.888889\n",
              "0  GradientBoostingClassifier  85.507246\n",
              "0          CatBoostClassifier  86.956522\n",
              "0              LGBMClassifier  84.057971\n",
              "0               XGBClassifier  84.541063"
            ]
          },
          "metadata": {
            "tags": []
          },
          "execution_count": 244
        }
      ]
    }
  ]
}